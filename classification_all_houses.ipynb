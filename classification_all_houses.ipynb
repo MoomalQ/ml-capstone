{
 "cells": [
  {
   "cell_type": "markdown",
   "metadata": {},
   "source": [
    "# Import packages"
   ]
  },
  {
   "cell_type": "code",
   "execution_count": 209,
   "metadata": {
    "collapsed": true
   },
   "outputs": [],
   "source": [
    "import glob\n",
    "import pandas as pd\n",
    "import numpy as np\n",
    "import sklearn as sk\n",
    "import datetime as dt\n",
    "import matplotlib.pyplot as plt\n",
    "import time"
   ]
  },
  {
   "cell_type": "code",
   "execution_count": 160,
   "metadata": {
    "collapsed": true
   },
   "outputs": [],
   "source": [
    "from sklearn.linear_model import LogisticRegression\n",
    "from sklearn.neighbors import KNeighborsClassifier\n",
    "from sklearn.naive_bayes import GaussianNB\n",
    "from sklearn.ensemble import RandomForestClassifier\n",
    "\n",
    "from sklearn.utils import shuffle\n",
    "from sklearn.model_selection import train_test_split"
   ]
  },
  {
   "cell_type": "markdown",
   "metadata": {},
   "source": [
    "# Read in data"
   ]
  },
  {
   "cell_type": "code",
   "execution_count": 59,
   "metadata": {},
   "outputs": [],
   "source": [
    "# Create list of house names based on folder names\n",
    "houses = ['house_' + str(i) for i in range(1,7)]"
   ]
  },
  {
   "cell_type": "code",
   "execution_count": 7,
   "metadata": {
    "collapsed": true
   },
   "outputs": [],
   "source": [
    "# Create empty filenames list of lists for each house\n",
    "filenames = [[]]*6"
   ]
  },
  {
   "cell_type": "code",
   "execution_count": 44,
   "metadata": {},
   "outputs": [],
   "source": [
    "for i in range(6):\n",
    "    filenames[i] = glob.glob('./REDD/low_freq/house_' + str(i+1) + '/*.dat')\n",
    "    \n",
    "    # Drop labels file path\n",
    "    filenames[i] = filenames[i][:-1]\n",
    "    \n",
    "    # Append 0 to single digit channels for sorting purposes (otherwise 10,11,... appears before 2,3,...)\n",
    "    for j in range(len(filenames[i])):\n",
    "        if len(filenames[i][j]) == 37:\n",
    "            filenames[i][j] = filenames[i][j][:32] + '0' + filenames[i][j][32:]\n",
    "    \n",
    "    # Sort so that single digit channels appear first\n",
    "    filenames[i].sort()\n",
    "    \n",
    "    # Remove 0 from single digit channels to return accurate channel names\n",
    "    for j in range(9):\n",
    "        filenames[i][j] = filenames[i][j][:32] + filenames[i][j][33:]"
   ]
  },
  {
   "cell_type": "code",
   "execution_count": 47,
   "metadata": {},
   "outputs": [],
   "source": [
    "# Create dictionary of every house with a corresponding list of appliance file paths\n",
    "filenames_dict = dict(zip(houses,filenames))"
   ]
  },
  {
   "cell_type": "code",
   "execution_count": 49,
   "metadata": {
    "collapsed": true
   },
   "outputs": [],
   "source": [
    "labels = [[]]*6"
   ]
  },
  {
   "cell_type": "code",
   "execution_count": 53,
   "metadata": {
    "collapsed": true
   },
   "outputs": [],
   "source": [
    "for i in range(6):\n",
    "    df_temp = pd.read_csv('./REDD/low_freq/house_' + str(i+1) + '/labels.dat', names = ['Labels'])\n",
    "    labels[i] = df_temp['Labels'].tolist()\n",
    "    \n",
    "    if len(labels[i]) >= 9:\n",
    "        for j in range(9):\n",
    "            labels[i][j] = '0' + labels[i][j]"
   ]
  },
  {
   "cell_type": "code",
   "execution_count": 55,
   "metadata": {},
   "outputs": [],
   "source": [
    "labels_dict = dict(zip(houses,labels))"
   ]
  },
  {
   "cell_type": "code",
   "execution_count": 77,
   "metadata": {},
   "outputs": [],
   "source": [
    "column_names = ['Date','Power']\n",
    "\n",
    "df_list = [[]]*6\n",
    "df_house_dict_list = [[]]*6\n",
    "\n",
    "# Create house dictionary of {label : dataframe} for each appliance in each house, then store as list\n",
    "for i, house in enumerate(houses):\n",
    "    df_list[i] = [pd.read_csv(file,sep = ' ',names = column_names) for file in filenames_dict[house]]\n",
    "    df_dict_list[i] = dict(zip(labels_dict[house],df_list[i]))    "
   ]
  },
  {
   "cell_type": "markdown",
   "metadata": {},
   "source": [
    "# Store all data in a dictionary of house number and house dataframe"
   ]
  },
  {
   "cell_type": "code",
   "execution_count": 78,
   "metadata": {},
   "outputs": [],
   "source": [
    "# For each appliance in each house dictionary\n",
    "for i in range(6):\n",
    "    for key in df_dict_list[i]:\n",
    "        \n",
    "        # Set date column as index\n",
    "        df_dict_list[i][key]['Date'] = pd.to_datetime(df_dict_list[i][key]['Date'],unit = 's')\n",
    "        df_dict_list[i][key] = df_dict_list[i][key].set_index(['Date'])\n",
    "        \n",
    "        # Relabel Power column as the appliance label\n",
    "        df_dict_list[i][key].columns = [key]"
   ]
  },
  {
   "cell_type": "code",
   "execution_count": 79,
   "metadata": {
    "collapsed": true
   },
   "outputs": [],
   "source": [
    "# Create list of house dataframes\n",
    "df_total_house_list = [[]]*6\n",
    "\n",
    "for i in range(6):\n",
    "    df_total_house_list[i] = pd.concat([df_dict_list[i][key] for key in df_dict_list[i]],\n",
    "                                    axis = 1,\n",
    "                                    join = 'inner')"
   ]
  },
  {
   "cell_type": "code",
   "execution_count": 108,
   "metadata": {},
   "outputs": [
    {
     "name": "stdout",
     "output_type": "stream",
     "text": [
      "(406748, 21)\n",
      "(316840, 12)\n",
      "(376150, 23)\n",
      "(428076, 21)\n",
      "(77451, 27)\n",
      "(192192, 18)\n"
     ]
    }
   ],
   "source": [
    "for i in range(6):\n",
    "    print(df_total_house_list[i].shape)"
   ]
  },
  {
   "cell_type": "code",
   "execution_count": 109,
   "metadata": {
    "collapsed": true
   },
   "outputs": [],
   "source": [
    "dict_df_all_houses = dict(zip(houses,df_total_house_list))"
   ]
  },
  {
   "cell_type": "markdown",
   "metadata": {},
   "source": [
    "# Clean data"
   ]
  },
  {
   "cell_type": "code",
   "execution_count": 110,
   "metadata": {},
   "outputs": [],
   "source": [
    "for house in houses:\n",
    "    \n",
    "    # Create sum of mains entry\n",
    "    dict_df_all_houses[house]['00 mains'] = dict_df_all_houses[house]['01 mains'] + \\\n",
    "                                            dict_df_all_houses[house]['02 mains']\n",
    "    \n",
    "    # Drop original mains columns\n",
    "    dict_df_all_houses[house] = dict_df_all_houses[house].drop(['01 mains', '02 mains'], axis = 1)\n",
    "    \n",
    "    # Sort to bring '00 mains' to first column\n",
    "    dict_df_all_houses[house] = dict_df_all_houses[house].sort_index(axis=1)"
   ]
  },
  {
   "cell_type": "code",
   "execution_count": 111,
   "metadata": {},
   "outputs": [],
   "source": [
    "# Filter to leave only columns contributing >5% of total energy\n",
    "\n",
    "for house in houses:\n",
    "    frac_total_energy = dict_df_all_houses[house].sum() / dict_df_all_houses[house]['00 mains'].sum()\n",
    "    over_5_percent = frac_total_energy > 0.05\n",
    "    dict_df_all_houses[house] = dict_df_all_houses[house][dict_df_all_houses[house].columns[over_5_percent]]"
   ]
  },
  {
   "cell_type": "code",
   "execution_count": 130,
   "metadata": {},
   "outputs": [],
   "source": [
    "df_io = dict_df_all_houses.copy()\n",
    "\n",
    "# Convert energy signals to on/off\n",
    "for house in houses:\n",
    "    df_io[house].iloc[:,1:] = df_io[house].iloc[:,1:] > 0\n",
    "    df_io[house].iloc[:,1:] = df_io[house].iloc[:,1:].astype(int)"
   ]
  },
  {
   "cell_type": "code",
   "execution_count": 131,
   "metadata": {},
   "outputs": [
    {
     "name": "stdout",
     "output_type": "stream",
     "text": [
      "house_1 07 kitchen_outlets\n",
      "house_1 08 kitchen_outlets\n",
      "house_1 11 microwave\n",
      "house_2 t-0\n",
      "house_3 06 electronics\n",
      "house_4 04 furance\n",
      "house_4 13 lighting\n",
      "house_5 23 lighting\n",
      "house_6 14 lighting\n"
     ]
    }
   ],
   "source": [
    "# Check if given label is \"always on\" - these need to be excluded from the classification\n",
    "\n",
    "for house in houses:\n",
    "    for appliance in df_io[house].columns:\n",
    "        \n",
    "        if df_io[house][appliance].sum() == df_io[house].shape[0]:\n",
    "            print(house, appliance)\n",
    "            df_io[house] = df_io[house].drop([appliance], axis = 1)"
   ]
  },
  {
   "cell_type": "markdown",
   "metadata": {},
   "source": [
    "# Create timeseries features"
   ]
  },
  {
   "cell_type": "code",
   "execution_count": 132,
   "metadata": {},
   "outputs": [],
   "source": [
    "# Create shifted ten-window time series columns to be used as features\n",
    "\n",
    "for house in houses:\n",
    "    for i in range(10):\n",
    "        df_io[house]['t-' + str(i)] = df_io[house]['00 mains'].shift(i)\n",
    "    \n",
    "    # Remove original main total column\n",
    "    df_io[house] = df_io[house].drop(['00 mains'], axis = 1)\n",
    "    \n",
    "    # Drop NaNs, hopefully only from time shifted mains columns\n",
    "    df_io[house] = df_io[house].dropna(how = 'any')"
   ]
  },
  {
   "cell_type": "markdown",
   "metadata": {},
   "source": [
    "# Set up training and results storage"
   ]
  },
  {
   "cell_type": "code",
   "execution_count": 142,
   "metadata": {},
   "outputs": [],
   "source": [
    "# Drop timestamps before shuffling\n",
    "for house in houses:\n",
    "    df_io[house] = df_io[house].reset_index(drop = True)"
   ]
  },
  {
   "cell_type": "code",
   "execution_count": 200,
   "metadata": {},
   "outputs": [],
   "source": [
    "X_dict = dict(zip(houses,[df_io[house].iloc[:,-10:] for house in df_io.keys()]))\n",
    "Y_all_dict = dict(zip(houses,[df_io[house].iloc[:,:-10] for house in df_io.keys()]))"
   ]
  },
  {
   "cell_type": "code",
   "execution_count": 203,
   "metadata": {
    "collapsed": true
   },
   "outputs": [],
   "source": [
    "# Create model dictionary to iterate over\n",
    "model_names = ['logreg', 'nb', 'knn', 'rf']\n",
    "models = [LogisticRegression(), GaussianNB(), KNeighborsClassifier(n_neighbors = 3), RandomForestClassifier()]\n",
    "\n",
    "model_dict = dict(zip(model_names, models))"
   ]
  },
  {
   "cell_type": "code",
   "execution_count": 204,
   "metadata": {
    "collapsed": true
   },
   "outputs": [],
   "source": [
    "# Create metrics dictionary. These metrics are most relevant given most appliances are highly skewed (on or off).\n",
    "\n",
    "metrics = ['precision','recall','f1 score']\n",
    "metric_objects = [sk.metrics.precision_score,\n",
    "                  sk.metrics.recall_score,\n",
    "                  sk.metrics.f1_score]\n",
    "\n",
    "metric_dict = dict(zip(metrics, metric_objects))"
   ]
  },
  {
   "cell_type": "code",
   "execution_count": 251,
   "metadata": {
    "collapsed": true
   },
   "outputs": [],
   "source": [
    "blank_data = np.zeros((len(model_names),len(metrics)))"
   ]
  },
  {
   "cell_type": "code",
   "execution_count": 307,
   "metadata": {},
   "outputs": [
    {
     "data": {
      "text/plain": [
       "{'house_1': {},\n",
       " 'house_2': {},\n",
       " 'house_3': {},\n",
       " 'house_4': {},\n",
       " 'house_5': {},\n",
       " 'house_6': {}}"
      ]
     },
     "execution_count": 307,
     "metadata": {},
     "output_type": "execute_result"
    }
   ],
   "source": [
    "results = dict(zip(houses,[{} for _ in range(6)]))\n",
    "results"
   ]
  },
  {
   "cell_type": "code",
   "execution_count": 308,
   "metadata": {},
   "outputs": [
    {
     "data": {
      "text/plain": [
       "{'house_1': {'05 refrigerator':         precision  recall  f1 score\n",
       "  logreg        0.0     0.0       0.0\n",
       "  nb            0.0     0.0       0.0\n",
       "  knn           0.0     0.0       0.0\n",
       "  rf            0.0     0.0       0.0,\n",
       "  '06 dishwasher':         precision  recall  f1 score\n",
       "  logreg        0.0     0.0       0.0\n",
       "  nb            0.0     0.0       0.0\n",
       "  knn           0.0     0.0       0.0\n",
       "  rf            0.0     0.0       0.0,\n",
       "  '09 lighting':         precision  recall  f1 score\n",
       "  logreg        0.0     0.0       0.0\n",
       "  nb            0.0     0.0       0.0\n",
       "  knn           0.0     0.0       0.0\n",
       "  rf            0.0     0.0       0.0,\n",
       "  '20 washer_dryer':         precision  recall  f1 score\n",
       "  logreg        0.0     0.0       0.0\n",
       "  nb            0.0     0.0       0.0\n",
       "  knn           0.0     0.0       0.0\n",
       "  rf            0.0     0.0       0.0},\n",
       " 'house_2': {'04 lighting':         precision  recall  f1 score\n",
       "  logreg        0.0     0.0       0.0\n",
       "  nb            0.0     0.0       0.0\n",
       "  knn           0.0     0.0       0.0\n",
       "  rf            0.0     0.0       0.0,\n",
       "  '06 microwave':         precision  recall  f1 score\n",
       "  logreg        0.0     0.0       0.0\n",
       "  nb            0.0     0.0       0.0\n",
       "  knn           0.0     0.0       0.0\n",
       "  rf            0.0     0.0       0.0,\n",
       "  '09 refrigerator':         precision  recall  f1 score\n",
       "  logreg        0.0     0.0       0.0\n",
       "  nb            0.0     0.0       0.0\n",
       "  knn           0.0     0.0       0.0\n",
       "  rf            0.0     0.0       0.0},\n",
       " 'house_3': {'07 refrigerator':         precision  recall  f1 score\n",
       "  logreg        0.0     0.0       0.0\n",
       "  nb            0.0     0.0       0.0\n",
       "  knn           0.0     0.0       0.0\n",
       "  rf            0.0     0.0       0.0,\n",
       "  '11 lighting':         precision  recall  f1 score\n",
       "  logreg        0.0     0.0       0.0\n",
       "  nb            0.0     0.0       0.0\n",
       "  knn           0.0     0.0       0.0\n",
       "  rf            0.0     0.0       0.0,\n",
       "  '13 washer_dryer':         precision  recall  f1 score\n",
       "  logreg        0.0     0.0       0.0\n",
       "  nb            0.0     0.0       0.0\n",
       "  knn           0.0     0.0       0.0\n",
       "  rf            0.0     0.0       0.0,\n",
       "  '14 washer_dryer':         precision  recall  f1 score\n",
       "  logreg        0.0     0.0       0.0\n",
       "  nb            0.0     0.0       0.0\n",
       "  knn           0.0     0.0       0.0\n",
       "  rf            0.0     0.0       0.0,\n",
       "  '17 lighting':         precision  recall  f1 score\n",
       "  logreg        0.0     0.0       0.0\n",
       "  nb            0.0     0.0       0.0\n",
       "  knn           0.0     0.0       0.0\n",
       "  rf            0.0     0.0       0.0},\n",
       " 'house_4': {'03 lighting':         precision  recall  f1 score\n",
       "  logreg        0.0     0.0       0.0\n",
       "  nb            0.0     0.0       0.0\n",
       "  knn           0.0     0.0       0.0\n",
       "  rf            0.0     0.0       0.0,\n",
       "  '14 kitchen_outlets':         precision  recall  f1 score\n",
       "  logreg        0.0     0.0       0.0\n",
       "  nb            0.0     0.0       0.0\n",
       "  knn           0.0     0.0       0.0\n",
       "  rf            0.0     0.0       0.0},\n",
       " 'house_5': {'06 furance':         precision  recall  f1 score\n",
       "  logreg        0.0     0.0       0.0\n",
       "  nb            0.0     0.0       0.0\n",
       "  knn           0.0     0.0       0.0\n",
       "  rf            0.0     0.0       0.0,\n",
       "  '18 refrigerator':         precision  recall  f1 score\n",
       "  logreg        0.0     0.0       0.0\n",
       "  nb            0.0     0.0       0.0\n",
       "  knn           0.0     0.0       0.0\n",
       "  rf            0.0     0.0       0.0},\n",
       " 'house_6': {'08 refrigerator':         precision  recall  f1 score\n",
       "  logreg        0.0     0.0       0.0\n",
       "  nb            0.0     0.0       0.0\n",
       "  knn           0.0     0.0       0.0\n",
       "  rf            0.0     0.0       0.0,\n",
       "  '11 outlets_unknown':         precision  recall  f1 score\n",
       "  logreg        0.0     0.0       0.0\n",
       "  nb            0.0     0.0       0.0\n",
       "  knn           0.0     0.0       0.0\n",
       "  rf            0.0     0.0       0.0,\n",
       "  '15 air_conditioning':         precision  recall  f1 score\n",
       "  logreg        0.0     0.0       0.0\n",
       "  nb            0.0     0.0       0.0\n",
       "  knn           0.0     0.0       0.0\n",
       "  rf            0.0     0.0       0.0,\n",
       "  '16 air_conditioning':         precision  recall  f1 score\n",
       "  logreg        0.0     0.0       0.0\n",
       "  nb            0.0     0.0       0.0\n",
       "  knn           0.0     0.0       0.0\n",
       "  rf            0.0     0.0       0.0,\n",
       "  '17 air_conditioning':         precision  recall  f1 score\n",
       "  logreg        0.0     0.0       0.0\n",
       "  nb            0.0     0.0       0.0\n",
       "  knn           0.0     0.0       0.0\n",
       "  rf            0.0     0.0       0.0}}"
      ]
     },
     "execution_count": 308,
     "metadata": {},
     "output_type": "execute_result"
    }
   ],
   "source": [
    "df_blank = pd.DataFrame(data = blank_data, columns = metrics, index = model_names)\n",
    "\n",
    "for house in houses:\n",
    "    \n",
    "    for appliance in Y_all_dict[house].columns:\n",
    "        \n",
    "        results[house][appliance] = df_blank.copy()"
   ]
  },
  {
   "cell_type": "code",
   "execution_count": 256,
   "metadata": {},
   "outputs": [
    {
     "data": {
      "text/plain": [
       "Index(['05 refrigerator', '06 dishwasher', '09 lighting', '20 washer_dryer'], dtype='object')"
      ]
     },
     "execution_count": 256,
     "metadata": {},
     "output_type": "execute_result"
    }
   ],
   "source": [
    "Y_all_dict['house_1'].columns"
   ]
  },
  {
   "cell_type": "markdown",
   "metadata": {},
   "source": [
    "# Train all models. WARNING: Takes >10 min."
   ]
  },
  {
   "cell_type": "code",
   "execution_count": 310,
   "metadata": {},
   "outputs": [
    {
     "name": "stdout",
     "output_type": "stream",
     "text": [
      "Training for:  house_1\n",
      "   Training for:  05 refrigerator\n",
      "     Training model:  logreg\n",
      "       Finished training model: logreg in 9.988631010055542 s.\n",
      "     Training model:  nb\n",
      "       Finished training model: nb in 0.22813796997070312 s.\n",
      "     Training model:  knn\n",
      "       Finished training model: knn in 18.200364112854004 s.\n",
      "     Training model:  rf\n",
      "       Finished training model: rf in 4.866636037826538 s.\n",
      "   Training for:  06 dishwasher\n",
      "     Training model:  logreg\n",
      "       Finished training model: logreg in 12.95094609260559 s.\n",
      "     Training model:  nb\n",
      "       Finished training model: nb in 0.1626570224761963 s.\n",
      "     Training model:  knn\n",
      "       Finished training model: knn in 17.71109890937805 s.\n",
      "     Training model:  rf\n",
      "       Finished training model: rf in 14.195065021514893 s.\n",
      "   Training for:  09 lighting\n",
      "     Training model:  logreg\n",
      "       Finished training model: logreg in 12.367313146591187 s.\n",
      "     Training model:  nb\n",
      "       Finished training model: nb in 0.16730427742004395 s.\n",
      "     Training model:  knn\n",
      "       Finished training model: knn in 17.611775159835815 s.\n",
      "     Training model:  rf\n",
      "       Finished training model: rf in 17.606102228164673 s.\n",
      "   Training for:  20 washer_dryer\n",
      "     Training model:  logreg\n",
      "       Finished training model: logreg in 10.546928882598877 s.\n",
      "     Training model:  nb\n",
      "       Finished training model: nb in 0.1598680019378662 s.\n",
      "     Training model:  knn\n",
      "       Finished training model: knn in 17.6435489654541 s.\n",
      "     Training model:  rf\n",
      "       Finished training model: rf in 8.603182792663574 s.\n",
      "Training for:  house_2\n",
      "   Training for:  04 lighting\n",
      "     Training model:  logreg\n",
      "       Finished training model: logreg in 8.694756984710693 s.\n",
      "     Training model:  nb\n",
      "       Finished training model: nb in 0.12178874015808105 s.\n",
      "     Training model:  knn\n",
      "       Finished training model: knn in 9.02774691581726 s.\n",
      "     Training model:  rf\n",
      "       Finished training model: rf in 1.2542691230773926 s.\n",
      "   Training for:  06 microwave\n",
      "     Training model:  logreg\n",
      "       Finished training model: logreg in 9.845140933990479 s.\n",
      "     Training model:  nb\n",
      "       Finished training model: nb in 0.12092113494873047 s.\n",
      "     Training model:  knn\n",
      "       Finished training model: knn in 9.015066862106323 s.\n",
      "     Training model:  rf\n",
      "       Finished training model: rf in 0.6477627754211426 s.\n",
      "   Training for:  09 refrigerator\n",
      "     Training model:  logreg\n",
      "       Finished training model: logreg in 8.83474588394165 s.\n",
      "     Training model:  nb\n",
      "       Finished training model: nb in 0.12748074531555176 s.\n",
      "     Training model:  knn\n",
      "       Finished training model: knn in 8.88137412071228 s.\n",
      "     Training model:  rf\n",
      "       Finished training model: rf in 2.204545021057129 s.\n",
      "Training for:  house_3\n",
      "   Training for:  07 refrigerator\n",
      "     Training model:  logreg\n",
      "       Finished training model: logreg in 4.572603940963745 s.\n",
      "     Training model:  nb\n",
      "       Finished training model: nb in 0.16673707962036133 s.\n",
      "     Training model:  knn\n",
      "       Finished training model: knn in 9.198421955108643 s.\n",
      "     Training model:  rf\n",
      "       Finished training model: rf in 13.670779943466187 s.\n",
      "   Training for:  11 lighting\n",
      "     Training model:  logreg\n",
      "       Finished training model: logreg in 14.740752220153809 s.\n",
      "     Training model:  nb\n",
      "       Finished training model: nb in 0.15361404418945312 s.\n",
      "     Training model:  knn\n",
      "       Finished training model: knn in 579.0346751213074 s.\n",
      "     Training model:  rf\n",
      "       Finished training model: rf in 14.0169517993927 s.\n",
      "   Training for:  13 washer_dryer\n",
      "     Training model:  logreg\n",
      "       Finished training model: logreg in 10.999843120574951 s.\n",
      "     Training model:  nb\n",
      "       Finished training model: nb in 0.17613983154296875 s.\n",
      "     Training model:  knn\n",
      "       Finished training model: knn in 10.709877967834473 s.\n",
      "     Training model:  rf\n",
      "       Finished training model: rf in 9.58788776397705 s.\n",
      "   Training for:  14 washer_dryer\n",
      "     Training model:  logreg\n",
      "       Finished training model: logreg in 12.027994155883789 s.\n",
      "     Training model:  nb\n",
      "       Finished training model: nb in 0.1484999656677246 s.\n",
      "     Training model:  knn\n",
      "       Finished training model: knn in 9.199905633926392 s.\n",
      "     Training model:  rf\n",
      "       Finished training model: rf in 11.3781099319458 s.\n",
      "   Training for:  17 lighting\n",
      "     Training model:  logreg\n",
      "       Finished training model: logreg in 15.178047180175781 s.\n",
      "     Training model:  nb\n",
      "       Finished training model: nb in 0.15652179718017578 s.\n",
      "     Training model:  knn\n",
      "       Finished training model: knn in 9.165714979171753 s.\n",
      "     Training model:  rf\n",
      "       Finished training model: rf in 12.503155946731567 s.\n",
      "Training for:  house_4\n",
      "   Training for:  03 lighting\n",
      "     Training model:  logreg\n",
      "       Finished training model: logreg in 15.683934926986694 s.\n",
      "     Training model:  nb\n",
      "       Finished training model: nb in 0.2358860969543457 s.\n",
      "     Training model:  knn\n",
      "       Finished training model: knn in 16.262562036514282 s.\n",
      "     Training model:  rf\n",
      "       Finished training model: rf in 15.061167001724243 s.\n",
      "   Training for:  14 kitchen_outlets\n",
      "     Training model:  logreg\n",
      "       Finished training model: logreg in 8.73163890838623 s.\n",
      "     Training model:  nb\n",
      "       Finished training model: nb in 0.16453289985656738 s.\n",
      "     Training model:  knn\n",
      "       Finished training model: knn in 15.441084861755371 s.\n",
      "     Training model:  rf\n",
      "       Finished training model: rf in 9.846084833145142 s.\n",
      "Training for:  house_5\n",
      "   Training for:  06 furance\n",
      "     Training model:  logreg\n",
      "       Finished training model: logreg in 2.6013529300689697 s.\n",
      "     Training model:  nb\n",
      "       Finished training model: nb in 0.032147884368896484 s.\n",
      "     Training model:  knn\n",
      "       Finished training model: knn in 0.9723708629608154 s.\n",
      "     Training model:  rf\n",
      "       Finished training model: rf in 1.2669949531555176 s.\n",
      "   Training for:  18 refrigerator\n",
      "     Training model:  logreg\n",
      "       Finished training model: logreg in 1.075387954711914 s.\n",
      "     Training model:  nb\n",
      "       Finished training model: nb in 0.035514116287231445 s.\n",
      "     Training model:  knn\n",
      "       Finished training model: knn in 1.2067179679870605 s.\n",
      "     Training model:  rf\n",
      "       Finished training model: rf in 2.2824273109436035 s.\n",
      "Training for:  house_6\n",
      "   Training for:  08 refrigerator\n",
      "     Training model:  logreg\n",
      "       Finished training model: logreg in 2.9176321029663086 s.\n",
      "     Training model:  nb\n",
      "       Finished training model: nb in 0.07720565795898438 s.\n",
      "     Training model:  knn\n",
      "       Finished training model: knn in 5.359327077865601 s.\n",
      "     Training model:  rf\n",
      "       Finished training model: rf in 7.549685955047607 s.\n",
      "   Training for:  11 outlets_unknown\n",
      "     Training model:  logreg\n",
      "       Finished training model: logreg in 5.8403239250183105 s.\n",
      "     Training model:  nb\n",
      "       Finished training model: nb in 0.07465481758117676 s.\n",
      "     Training model:  knn\n",
      "       Finished training model: knn in 5.3195250034332275 s.\n",
      "     Training model:  rf\n",
      "       Finished training model: rf in 5.638045072555542 s.\n",
      "   Training for:  15 air_conditioning\n",
      "     Training model:  logreg\n",
      "       Finished training model: logreg in 5.298166036605835 s.\n",
      "     Training model:  nb\n",
      "       Finished training model: nb in 0.0741722583770752 s.\n",
      "     Training model:  knn\n",
      "       Finished training model: knn in 5.312482118606567 s.\n",
      "     Training model:  rf\n",
      "       Finished training model: rf in 0.8060784339904785 s.\n",
      "   Training for:  16 air_conditioning\n",
      "     Training model:  logreg\n",
      "       Finished training model: logreg in 5.4220192432403564 s.\n",
      "     Training model:  nb\n",
      "       Finished training model: nb in 0.1230170726776123 s.\n",
      "     Training model:  knn\n",
      "       Finished training model: knn in 5.859248876571655 s.\n",
      "     Training model:  rf\n",
      "       Finished training model: rf in 4.859863996505737 s.\n",
      "   Training for:  17 air_conditioning\n",
      "     Training model:  logreg\n",
      "       Finished training model: logreg in 4.680218935012817 s.\n",
      "     Training model:  nb\n",
      "       Finished training model: nb in 0.07407498359680176 s.\n",
      "     Training model:  knn\n",
      "       Finished training model: knn in 5.90617299079895 s.\n",
      "     Training model:  rf\n",
      "       Finished training model: rf in 4.994312286376953 s.\n"
     ]
    }
   ],
   "source": [
    "for house in houses:\n",
    "    print('Training for: ', house)\n",
    "    # Create training and test splits using 20%\n",
    "    X_train, X_test, Y_train_all, Y_test_all = \\\n",
    "        train_test_split(X_dict[house], Y_all_dict[house], test_size=0.2, random_state=100)\n",
    "\n",
    "    for appliance in Y_train_all.columns:\n",
    "        \n",
    "        print(' '*2, 'Training for: ', appliance)\n",
    "        \n",
    "        # Set each Y as one appliance at a time\n",
    "        Y_train = Y_train_all[appliance]\n",
    "        Y_test = Y_test_all[appliance]\n",
    "        \n",
    "        for model in model_names:\n",
    "            \n",
    "            print(' '*4, 'Training model: ', model)\n",
    "            start = time.time()\n",
    "            \n",
    "            # Train each model\n",
    "            model_dict[model].fit(X_train, Y_train)\n",
    "            \n",
    "            # Predict Y values\n",
    "            Y_pred = model_dict[model].predict(X_test)\n",
    "            \n",
    "            for metric in metrics:\n",
    "                results[house][appliance][metric][model] = metric_dict[metric](Y_test, Y_pred)\n",
    "            \n",
    "            finish = time.time()\n",
    "            print(' '*6, 'Finished training model:', model, 'in', finish-start, 's.')"
   ]
  },
  {
   "cell_type": "code",
   "execution_count": 311,
   "metadata": {},
   "outputs": [
    {
     "data": {
      "text/plain": [
       "{'05 refrigerator':         precision    recall  f1 score\n",
       " logreg   0.999889  0.999988  0.999939\n",
       " nb       1.000000  0.982493  0.991169\n",
       " knn      0.999889  0.999988  0.999939\n",
       " rf       0.999939  1.000000  0.999969,\n",
       " '06 dishwasher':         precision    recall  f1 score\n",
       " logreg   0.432749  0.010045  0.019634\n",
       " nb       0.453154  0.269173  0.337733\n",
       " knn      0.670433  0.563866  0.612549\n",
       " rf       0.816483  0.521786  0.636687,\n",
       " '09 lighting':         precision    recall  f1 score\n",
       " logreg   0.941533  0.999974  0.969874\n",
       " nb       0.942531  0.963390  0.952846\n",
       " knn      0.967393  0.987388  0.977288\n",
       " rf       0.969197  0.992937  0.980923,\n",
       " '20 washer_dryer':         precision    recall  f1 score\n",
       " logreg   0.407534  0.117011  0.181818\n",
       " nb       0.390778  0.983284  0.559284\n",
       " knn      0.964611  0.938053  0.951147\n",
       " rf       0.979529  0.941003  0.959880}"
      ]
     },
     "execution_count": 311,
     "metadata": {},
     "output_type": "execute_result"
    }
   ],
   "source": [
    "results['house_1']"
   ]
  },
  {
   "cell_type": "markdown",
   "metadata": {},
   "source": [
    "# Create summary table"
   ]
  },
  {
   "cell_type": "code",
   "execution_count": 312,
   "metadata": {},
   "outputs": [
    {
     "data": {
      "text/html": [
       "<div>\n",
       "<style>\n",
       "    .dataframe thead tr:only-child th {\n",
       "        text-align: right;\n",
       "    }\n",
       "\n",
       "    .dataframe thead th {\n",
       "        text-align: left;\n",
       "    }\n",
       "\n",
       "    .dataframe tbody tr th {\n",
       "        vertical-align: top;\n",
       "    }\n",
       "</style>\n",
       "<table border=\"1\" class=\"dataframe\">\n",
       "  <thead>\n",
       "    <tr>\n",
       "      <th>metrics</th>\n",
       "      <th colspan=\"2\" halign=\"left\">precision</th>\n",
       "      <th colspan=\"2\" halign=\"left\">recall</th>\n",
       "      <th colspan=\"2\" halign=\"left\">f1 score</th>\n",
       "    </tr>\n",
       "    <tr>\n",
       "      <th>type</th>\n",
       "      <th>worst case</th>\n",
       "      <th>average</th>\n",
       "      <th>worst case</th>\n",
       "      <th>average</th>\n",
       "      <th>worst case</th>\n",
       "      <th>average</th>\n",
       "    </tr>\n",
       "  </thead>\n",
       "  <tbody>\n",
       "    <tr>\n",
       "      <th>logreg</th>\n",
       "      <td>0.0</td>\n",
       "      <td>0.0</td>\n",
       "      <td>0.0</td>\n",
       "      <td>0.0</td>\n",
       "      <td>0.0</td>\n",
       "      <td>0.0</td>\n",
       "    </tr>\n",
       "    <tr>\n",
       "      <th>nb</th>\n",
       "      <td>0.0</td>\n",
       "      <td>0.0</td>\n",
       "      <td>0.0</td>\n",
       "      <td>0.0</td>\n",
       "      <td>0.0</td>\n",
       "      <td>0.0</td>\n",
       "    </tr>\n",
       "    <tr>\n",
       "      <th>knn</th>\n",
       "      <td>0.0</td>\n",
       "      <td>0.0</td>\n",
       "      <td>0.0</td>\n",
       "      <td>0.0</td>\n",
       "      <td>0.0</td>\n",
       "      <td>0.0</td>\n",
       "    </tr>\n",
       "    <tr>\n",
       "      <th>rf</th>\n",
       "      <td>0.0</td>\n",
       "      <td>0.0</td>\n",
       "      <td>0.0</td>\n",
       "      <td>0.0</td>\n",
       "      <td>0.0</td>\n",
       "      <td>0.0</td>\n",
       "    </tr>\n",
       "  </tbody>\n",
       "</table>\n",
       "</div>"
      ],
      "text/plain": [
       "metrics  precision             recall           f1 score        \n",
       "type    worst case average worst case average worst case average\n",
       "logreg         0.0     0.0        0.0     0.0        0.0     0.0\n",
       "nb             0.0     0.0        0.0     0.0        0.0     0.0\n",
       "knn            0.0     0.0        0.0     0.0        0.0     0.0\n",
       "rf             0.0     0.0        0.0     0.0        0.0     0.0"
      ]
     },
     "execution_count": 312,
     "metadata": {},
     "output_type": "execute_result"
    }
   ],
   "source": [
    "scores = ['worst case', 'average']\n",
    "blank_data = np.zeros((len(model_names), len(metrics)*len(scores)))\n",
    "iterables = [metrics, scores]\n",
    "column_labels = pd.MultiIndex.from_product(iterables, names = ['metrics', 'type'])\n",
    "\n",
    "summary_results = pd.DataFrame(data = blank_data, columns = column_labels, index = model_names)\n",
    "summary_results"
   ]
  },
  {
   "cell_type": "code",
   "execution_count": 190,
   "metadata": {},
   "outputs": [
    {
     "data": {
      "text/plain": [
       "0.0"
      ]
     },
     "execution_count": 190,
     "metadata": {},
     "output_type": "execute_result"
    }
   ],
   "source": [
    "summary_results['precision', 'average']['logreg']"
   ]
  },
  {
   "cell_type": "code",
   "execution_count": 313,
   "metadata": {},
   "outputs": [],
   "source": [
    "for model in model_names:\n",
    "    for metric in metrics:\n",
    "        \n",
    "        all_appliance_list = []\n",
    "        \n",
    "        for house in houses:\n",
    "            for appliance in Y_all_dict[house].columns:\n",
    "                \n",
    "                # Create list of all results for a specific model and metric for every appliance in every house\n",
    "                all_appliance_list = all_appliance_list + [results[house][appliance][metric][model]]\n",
    "          \n",
    "        summary_results[metric, 'worst case'][model] = min(all_appliance_list)\n",
    "        summary_results[metric, 'average'][model] = np.mean(all_appliance_list)"
   ]
  },
  {
   "cell_type": "code",
   "execution_count": 314,
   "metadata": {},
   "outputs": [
    {
     "data": {
      "text/html": [
       "<div>\n",
       "<style>\n",
       "    .dataframe thead tr:only-child th {\n",
       "        text-align: right;\n",
       "    }\n",
       "\n",
       "    .dataframe thead th {\n",
       "        text-align: left;\n",
       "    }\n",
       "\n",
       "    .dataframe tbody tr th {\n",
       "        vertical-align: top;\n",
       "    }\n",
       "</style>\n",
       "<table border=\"1\" class=\"dataframe\">\n",
       "  <thead>\n",
       "    <tr>\n",
       "      <th>metrics</th>\n",
       "      <th colspan=\"2\" halign=\"left\">precision</th>\n",
       "      <th colspan=\"2\" halign=\"left\">recall</th>\n",
       "      <th colspan=\"2\" halign=\"left\">f1 score</th>\n",
       "    </tr>\n",
       "    <tr>\n",
       "      <th>type</th>\n",
       "      <th>worst case</th>\n",
       "      <th>average</th>\n",
       "      <th>worst case</th>\n",
       "      <th>average</th>\n",
       "      <th>worst case</th>\n",
       "      <th>average</th>\n",
       "    </tr>\n",
       "  </thead>\n",
       "  <tbody>\n",
       "    <tr>\n",
       "      <th>logreg</th>\n",
       "      <td>0.407534</td>\n",
       "      <td>0.775528</td>\n",
       "      <td>0.000138</td>\n",
       "      <td>0.610795</td>\n",
       "      <td>0.000276</td>\n",
       "      <td>0.598997</td>\n",
       "    </tr>\n",
       "    <tr>\n",
       "      <th>nb</th>\n",
       "      <td>0.347240</td>\n",
       "      <td>0.765889</td>\n",
       "      <td>0.145753</td>\n",
       "      <td>0.763870</td>\n",
       "      <td>0.205322</td>\n",
       "      <td>0.727799</td>\n",
       "    </tr>\n",
       "    <tr>\n",
       "      <th>knn</th>\n",
       "      <td>0.670433</td>\n",
       "      <td>0.897129</td>\n",
       "      <td>0.563866</td>\n",
       "      <td>0.876499</td>\n",
       "      <td>0.612549</td>\n",
       "      <td>0.886287</td>\n",
       "    </tr>\n",
       "    <tr>\n",
       "      <th>rf</th>\n",
       "      <td>0.757942</td>\n",
       "      <td>0.927926</td>\n",
       "      <td>0.521786</td>\n",
       "      <td>0.870415</td>\n",
       "      <td>0.636687</td>\n",
       "      <td>0.896037</td>\n",
       "    </tr>\n",
       "  </tbody>\n",
       "</table>\n",
       "</div>"
      ],
      "text/plain": [
       "metrics  precision               recall             f1 score          \n",
       "type    worst case   average worst case   average worst case   average\n",
       "logreg    0.407534  0.775528   0.000138  0.610795   0.000276  0.598997\n",
       "nb        0.347240  0.765889   0.145753  0.763870   0.205322  0.727799\n",
       "knn       0.670433  0.897129   0.563866  0.876499   0.612549  0.886287\n",
       "rf        0.757942  0.927926   0.521786  0.870415   0.636687  0.896037"
      ]
     },
     "execution_count": 314,
     "metadata": {},
     "output_type": "execute_result"
    }
   ],
   "source": [
    "summary_results"
   ]
  },
  {
   "cell_type": "code",
   "execution_count": null,
   "metadata": {
    "collapsed": true
   },
   "outputs": [],
   "source": []
  }
 ],
 "metadata": {
  "kernelspec": {
   "display_name": "Python 3",
   "language": "python",
   "name": "python3"
  },
  "language_info": {
   "codemirror_mode": {
    "name": "ipython",
    "version": 3
   },
   "file_extension": ".py",
   "mimetype": "text/x-python",
   "name": "python",
   "nbconvert_exporter": "python",
   "pygments_lexer": "ipython3",
   "version": "3.6.1"
  }
 },
 "nbformat": 4,
 "nbformat_minor": 2
}
