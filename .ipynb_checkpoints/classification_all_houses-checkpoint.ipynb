{
 "cells": [
  {
   "cell_type": "markdown",
   "metadata": {},
   "source": [
    "# Import packages"
   ]
  },
  {
   "cell_type": "code",
   "execution_count": 128,
   "metadata": {
    "collapsed": true
   },
   "outputs": [],
   "source": [
    "import glob\n",
    "import pandas as pd\n",
    "import numpy as np\n",
    "import sklearn as sk\n",
    "import datetime as dt\n",
    "import matplotlib as mp\n",
    "import matplotlib.pyplot as plt\n",
    "import seaborn as sns\n",
    "import time"
   ]
  },
  {
   "cell_type": "code",
   "execution_count": 2,
   "metadata": {
    "collapsed": true
   },
   "outputs": [],
   "source": [
    "from sklearn.linear_model import LogisticRegression\n",
    "from sklearn.neighbors import KNeighborsClassifier\n",
    "from sklearn.naive_bayes import GaussianNB\n",
    "from sklearn.ensemble import RandomForestClassifier\n",
    "\n",
    "from sklearn.utils import shuffle\n",
    "from sklearn.model_selection import train_test_split"
   ]
  },
  {
   "cell_type": "markdown",
   "metadata": {},
   "source": [
    "# Read in data"
   ]
  },
  {
   "cell_type": "code",
   "execution_count": 3,
   "metadata": {
    "collapsed": true
   },
   "outputs": [],
   "source": [
    "# Create list of house names based on folder names\n",
    "houses = ['house_' + str(i) for i in range(1,7)]"
   ]
  },
  {
   "cell_type": "code",
   "execution_count": 12,
   "metadata": {
    "collapsed": true
   },
   "outputs": [],
   "source": [
    "# Create empty filenames list of lists for each house\n",
    "filenames = [[] for _ in range(6)]"
   ]
  },
  {
   "cell_type": "code",
   "execution_count": 13,
   "metadata": {
    "collapsed": true
   },
   "outputs": [],
   "source": [
    "for i in range(6):\n",
    "    filenames[i] = glob.glob('./REDD/low_freq/house_' + str(i+1) + '/*.dat')\n",
    "    \n",
    "    # Drop labels file path\n",
    "    filenames[i] = filenames[i][:-1]\n",
    "    \n",
    "    # Append 0 to single digit channels for sorting purposes (otherwise 10,11,... appears before 2,3,...)\n",
    "    for j in range(len(filenames[i])):\n",
    "        if len(filenames[i][j]) == 37:\n",
    "            filenames[i][j] = filenames[i][j][:32] + '0' + filenames[i][j][32:]\n",
    "    \n",
    "    # Sort so that single digit channels appear first\n",
    "    filenames[i].sort()\n",
    "    \n",
    "    # Remove 0 from single digit channels to return accurate channel names\n",
    "    for j in range(9):\n",
    "        filenames[i][j] = filenames[i][j][:32] + filenames[i][j][33:]"
   ]
  },
  {
   "cell_type": "code",
   "execution_count": 14,
   "metadata": {
    "collapsed": true
   },
   "outputs": [],
   "source": [
    "# Create dictionary of every house with a corresponding list of appliance file paths\n",
    "filenames_dict = dict(zip(houses,filenames))"
   ]
  },
  {
   "cell_type": "code",
   "execution_count": 15,
   "metadata": {
    "collapsed": true
   },
   "outputs": [],
   "source": [
    "# Create empty list of lists to fill with appliance labels for each hosue\n",
    "labels = [[] for _ in range(6)]"
   ]
  },
  {
   "cell_type": "code",
   "execution_count": 16,
   "metadata": {
    "collapsed": true
   },
   "outputs": [],
   "source": [
    "for i in range(6):\n",
    "    \n",
    "    # Read in labels for each house and store as list in labels\n",
    "    df_temp = pd.read_csv('./REDD/low_freq/house_' + str(i+1) + '/labels.dat', names = ['Labels'])\n",
    "    labels[i] = df_temp['Labels'].tolist()\n",
    "    \n",
    "    # Add a 0 to single digit labels for sorting purposes\n",
    "    if len(labels[i]) >= 9:\n",
    "        for j in range(9):\n",
    "            labels[i][j] = '0' + labels[i][j]"
   ]
  },
  {
   "cell_type": "code",
   "execution_count": 17,
   "metadata": {
    "collapsed": true
   },
   "outputs": [],
   "source": [
    "# Create a dictionary of houses and their corresponding list of appliance labels\n",
    "labels_dict = dict(zip(houses,labels))"
   ]
  },
  {
   "cell_type": "code",
   "execution_count": 22,
   "metadata": {},
   "outputs": [],
   "source": [
    "column_names = ['Date','Power']\n",
    "\n",
    "# Create empty list of to store lists of dataframes for each house\n",
    "df_list = [[] for _ in range(6)]\n",
    "\n",
    "# Create list of empty dictionaries for each house, where we will store {appliance: appliance dataframe}\n",
    "df_dict_list = [{} for _ in range(6)]\n",
    "\n",
    "# Create house dictionary of {appliance : dataframe} for each appliance in each house, then store as list\n",
    "for i, house in enumerate(houses):\n",
    "    \n",
    "    # Store each appliance dataframe in a list for each house\n",
    "    df_list[i] = [pd.read_csv(file,sep = ' ',names = column_names) for file in filenames_dict[house]]\n",
    "    \n",
    "    # Create dictionary of each each appliance name and dataframe\n",
    "    df_dict_list[i] = dict(zip(labels_dict[house],df_list[i]))    "
   ]
  },
  {
   "cell_type": "markdown",
   "metadata": {},
   "source": [
    "# Store all data in a dictionary of house number and house dataframe"
   ]
  },
  {
   "cell_type": "code",
   "execution_count": 23,
   "metadata": {
    "collapsed": true
   },
   "outputs": [],
   "source": [
    "# For each appliance in each house dictionary\n",
    "for i in range(6):\n",
    "    for key in df_dict_list[i]:\n",
    "        \n",
    "        # Set date column as index\n",
    "        df_dict_list[i][key]['Date'] = pd.to_datetime(df_dict_list[i][key]['Date'],unit = 's')\n",
    "        df_dict_list[i][key] = df_dict_list[i][key].set_index(['Date'])\n",
    "        \n",
    "        # Relabel Power column as the appliance label\n",
    "        df_dict_list[i][key].columns = [key]"
   ]
  },
  {
   "cell_type": "code",
   "execution_count": 24,
   "metadata": {
    "collapsed": true
   },
   "outputs": [],
   "source": [
    "# Create list of house dataframes\n",
    "df_total_house_list = [[] for _ in range(6)]\n",
    "\n",
    "# Concatenate all appliance dataframes within a house, keeping only time steps where there is data for all\n",
    "for i in range(6):\n",
    "    df_total_house_list[i] = pd.concat([df_dict_list[i][key] for key in df_dict_list[i]],\n",
    "                                    axis = 1,\n",
    "                                    join = 'inner')"
   ]
  },
  {
   "cell_type": "code",
   "execution_count": 25,
   "metadata": {},
   "outputs": [
    {
     "name": "stdout",
     "output_type": "stream",
     "text": [
      "(406748, 20)\n",
      "(316840, 11)\n",
      "(376150, 22)\n",
      "(428076, 20)\n",
      "(77451, 26)\n",
      "(192192, 17)\n"
     ]
    }
   ],
   "source": [
    "# Examine shape of each house dataframe (timesteps, appliances)\n",
    "for i in range(6):\n",
    "    print(df_total_house_list[i].shape)"
   ]
  },
  {
   "cell_type": "code",
   "execution_count": 26,
   "metadata": {
    "collapsed": true
   },
   "outputs": [],
   "source": [
    "dict_df_all_houses = dict(zip(houses,df_total_house_list))"
   ]
  },
  {
   "cell_type": "markdown",
   "metadata": {},
   "source": [
    "# Clean data"
   ]
  },
  {
   "cell_type": "code",
   "execution_count": 27,
   "metadata": {},
   "outputs": [],
   "source": [
    "for house in houses:\n",
    "    \n",
    "    # Create sum of mains entry\n",
    "    dict_df_all_houses[house]['00 mains'] = dict_df_all_houses[house]['01 mains'] + \\\n",
    "                                            dict_df_all_houses[house]['02 mains']\n",
    "    \n",
    "    # Drop original mains columns\n",
    "    dict_df_all_houses[house] = dict_df_all_houses[house].drop(['01 mains', '02 mains'], axis = 1)\n",
    "    \n",
    "    # Sort to bring '00 mains' to first column\n",
    "    dict_df_all_houses[house] = dict_df_all_houses[house].sort_index(axis=1)"
   ]
  },
  {
   "cell_type": "code",
   "execution_count": 29,
   "metadata": {
    "collapsed": true
   },
   "outputs": [],
   "source": [
    "# Filter to leave only columns contributing >5% of total energy\n",
    "\n",
    "all_houses_over_5 = dict_df_all_houses.copy()\n",
    "\n",
    "for house in houses:\n",
    "    frac_total_energy = all_houses_over_5[house].sum() / all_houses_over_5[house]['00 mains'].sum()\n",
    "    over_5_percent = frac_total_energy > 0.05\n",
    "    all_houses_over_5[house] = all_houses_over_5[house][all_houses_over_5[house].columns[over_5_percent]]"
   ]
  },
  {
   "cell_type": "code",
   "execution_count": null,
   "metadata": {
    "collapsed": true
   },
   "outputs": [],
   "source": [
    "# Convert energy signals to on/off only\n",
    "df_io = dict_df_all_houses.copy()\n",
    "\n",
    "for house in houses:\n",
    "    df_io[house].iloc[:,1:] = df_io[house].iloc[:,1:] > 0\n",
    "    df_io[house].iloc[:,1:] = df_io[house].iloc[:,1:].astype(int)"
   ]
  },
  {
   "cell_type": "code",
   "execution_count": null,
   "metadata": {},
   "outputs": [],
   "source": [
    "# Check if given label is \"always on\" - these need to be excluded from the classification\n",
    "\n",
    "for house in houses:\n",
    "    for appliance in df_io[house].columns:\n",
    "        \n",
    "        if df_io[house][appliance].sum() == df_io[house].shape[0]:\n",
    "            print(house, appliance)\n",
    "            df_io[house] = df_io[house].drop([appliance], axis = 1)"
   ]
  },
  {
   "cell_type": "markdown",
   "metadata": {},
   "source": [
    "# Create timeseries features"
   ]
  },
  {
   "cell_type": "code",
   "execution_count": null,
   "metadata": {
    "collapsed": true
   },
   "outputs": [],
   "source": [
    "# Create shifted ten-window time series columns to be used as features\n",
    "\n",
    "for house in houses:\n",
    "    for i in range(10):\n",
    "        df_io[house]['t-' + str(i)] = df_io[house]['00 mains'].shift(i)\n",
    "    \n",
    "    # Remove original main total column\n",
    "    df_io[house] = df_io[house].drop(['00 mains'], axis = 1)\n",
    "    \n",
    "    # Drop NaNs, hopefully only from time shifted mains columns\n",
    "    df_io[house] = df_io[house].dropna(how = 'any')"
   ]
  },
  {
   "cell_type": "markdown",
   "metadata": {},
   "source": [
    "# Set up training and results storage"
   ]
  },
  {
   "cell_type": "code",
   "execution_count": null,
   "metadata": {
    "collapsed": true
   },
   "outputs": [],
   "source": [
    "# Drop timestamps before shuffling\n",
    "for house in houses:\n",
    "    df_io[house] = df_io[house].reset_index(drop = True)"
   ]
  },
  {
   "cell_type": "code",
   "execution_count": null,
   "metadata": {
    "collapsed": true
   },
   "outputs": [],
   "source": [
    "X_dict = dict(zip(houses,[df_io[house].iloc[:,-10:] for house in df_io.keys()]))\n",
    "Y_all_dict = dict(zip(houses,[df_io[house].iloc[:,:-10] for house in df_io.keys()]))"
   ]
  },
  {
   "cell_type": "code",
   "execution_count": null,
   "metadata": {
    "collapsed": true
   },
   "outputs": [],
   "source": [
    "# Create model dictionary to iterate over\n",
    "model_names = ['logreg', 'nb', 'knn', 'rf']\n",
    "models = [LogisticRegression(), GaussianNB(), KNeighborsClassifier(n_neighbors = 3), RandomForestClassifier()]\n",
    "\n",
    "model_dict = dict(zip(model_names, models))"
   ]
  },
  {
   "cell_type": "code",
   "execution_count": null,
   "metadata": {
    "collapsed": true
   },
   "outputs": [],
   "source": [
    "# Create metrics dictionary. These metrics are most relevant given most appliances are highly skewed (on or off).\n",
    "\n",
    "metrics = ['precision','recall','f1 score']\n",
    "metric_objects = [sk.metrics.precision_score,\n",
    "                  sk.metrics.recall_score,\n",
    "                  sk.metrics.f1_score]\n",
    "\n",
    "metric_dict = dict(zip(metrics, metric_objects))"
   ]
  },
  {
   "cell_type": "code",
   "execution_count": null,
   "metadata": {
    "collapsed": true
   },
   "outputs": [],
   "source": [
    "blank_data = np.zeros((len(model_names),len(metrics)))"
   ]
  },
  {
   "cell_type": "code",
   "execution_count": null,
   "metadata": {},
   "outputs": [],
   "source": [
    "results = dict(zip(houses,[{} for _ in range(6)]))\n",
    "results"
   ]
  },
  {
   "cell_type": "code",
   "execution_count": null,
   "metadata": {},
   "outputs": [],
   "source": [
    "df_blank = pd.DataFrame(data = blank_data, columns = metrics, index = model_names)\n",
    "\n",
    "for house in houses:\n",
    "    \n",
    "    for appliance in Y_all_dict[house].columns:\n",
    "        \n",
    "        results[house][appliance] = df_blank.copy()"
   ]
  },
  {
   "cell_type": "code",
   "execution_count": null,
   "metadata": {},
   "outputs": [],
   "source": [
    "Y_all_dict['house_1'].columns"
   ]
  },
  {
   "cell_type": "markdown",
   "metadata": {},
   "source": [
    "# Train all models. WARNING: Takes >10 min."
   ]
  },
  {
   "cell_type": "code",
   "execution_count": null,
   "metadata": {},
   "outputs": [],
   "source": [
    "for house in houses:\n",
    "    print('Training for: ', house)\n",
    "    # Create training and test splits using 20%\n",
    "    X_train, X_test, Y_train_all, Y_test_all = \\\n",
    "        train_test_split(X_dict[house], Y_all_dict[house], test_size=0.2, random_state=100)\n",
    "\n",
    "    for appliance in Y_train_all.columns:\n",
    "        \n",
    "        print(' '*2, 'Training for: ', appliance)\n",
    "        \n",
    "        # Set each Y as one appliance at a time\n",
    "        Y_train = Y_train_all[appliance]\n",
    "        Y_test = Y_test_all[appliance]\n",
    "        \n",
    "        for model in model_names:\n",
    "            \n",
    "            print(' '*4, 'Training model: ', model)\n",
    "            start = time.time()\n",
    "            \n",
    "            # Train each model\n",
    "            model_dict[model].fit(X_train, Y_train)\n",
    "            \n",
    "            # Predict Y values\n",
    "            Y_pred = model_dict[model].predict(X_test)\n",
    "            \n",
    "            for metric in metrics:\n",
    "                results[house][appliance][metric][model] = metric_dict[metric](Y_test, Y_pred)\n",
    "            \n",
    "            finish = time.time()\n",
    "            print(' '*6, 'Finished training model:', model, 'in', finish-start, 's.')"
   ]
  },
  {
   "cell_type": "code",
   "execution_count": null,
   "metadata": {},
   "outputs": [],
   "source": [
    "results['house_1']"
   ]
  },
  {
   "cell_type": "markdown",
   "metadata": {},
   "source": [
    "# Create summary table"
   ]
  },
  {
   "cell_type": "code",
   "execution_count": null,
   "metadata": {},
   "outputs": [],
   "source": [
    "scores = ['worst case', 'average']\n",
    "blank_data = np.zeros((len(model_names), len(metrics)*len(scores)))\n",
    "iterables = [metrics, scores]\n",
    "column_labels = pd.MultiIndex.from_product(iterables, names = ['metrics', 'type'])\n",
    "\n",
    "summary_results = pd.DataFrame(data = blank_data, columns = column_labels, index = model_names)\n",
    "summary_results"
   ]
  },
  {
   "cell_type": "code",
   "execution_count": null,
   "metadata": {},
   "outputs": [],
   "source": [
    "summary_results['precision', 'average']['logreg']"
   ]
  },
  {
   "cell_type": "code",
   "execution_count": null,
   "metadata": {
    "collapsed": true
   },
   "outputs": [],
   "source": [
    "for model in model_names:\n",
    "    for metric in metrics:\n",
    "        \n",
    "        all_appliance_list = []\n",
    "        \n",
    "        for house in houses:\n",
    "            for appliance in Y_all_dict[house].columns:\n",
    "                \n",
    "                # Create list of all results for a specific model and metric for every appliance in every house\n",
    "                all_appliance_list = all_appliance_list + [results[house][appliance][metric][model]]\n",
    "          \n",
    "        summary_results[metric, 'worst case'][model] = min(all_appliance_list)\n",
    "        summary_results[metric, 'average'][model] = np.mean(all_appliance_list)"
   ]
  },
  {
   "cell_type": "code",
   "execution_count": null,
   "metadata": {},
   "outputs": [],
   "source": [
    "summary_results"
   ]
  },
  {
   "cell_type": "markdown",
   "metadata": {},
   "source": [
    "# Plots for AAA poster"
   ]
  },
  {
   "cell_type": "code",
   "execution_count": 115,
   "metadata": {},
   "outputs": [],
   "source": [
    "example_day = (all_houses_over_5['house_1'].index > '2011-04-23 00:00:00') & \\\n",
    "                                (all_houses_over_5['house_1'].index < '2011-04-24 00:00:00')"
   ]
  },
  {
   "cell_type": "code",
   "execution_count": 253,
   "metadata": {},
   "outputs": [
    {
     "data": {
      "image/png": "[encoded data removed]",
      "text/plain": [
       "<matplotlib.figure.Figure at 0x1bed30128>"
      ]
     },
     "metadata": {},
     "output_type": "display_data"
    }
   ],
   "source": [
    "# Aggregate plot\n",
    "\n",
    "import matplotlib.dates as mdates\n",
    "import datetime\n",
    "\n",
    "d = all_houses_over_5['house_1'][example_day]\n",
    "x = d.index\n",
    "y = d['00 mains']\n",
    "\n",
    "fig, ax = plt.subplots()\n",
    "\n",
    "ax.stackplot(x, y, colors = ('black',))\n",
    "\n",
    "hours = mdates.HourLocator()\n",
    "hr_format = mdates.DateFormatter('%H:00')\n",
    "\n",
    "ax.set_xlim([datetime.date(2011, 4, 23), datetime.date(2011, 4, 24)])\n",
    "\n",
    "ax.xaxis.set_major_locator(hours)\n",
    "ax.xaxis.set_major_formatter(hr_format)\n",
    "\n",
    "for index, label in enumerate(ax.xaxis.get_ticklabels()):\n",
    "    if index % 6 != 0:\n",
    "        label.set_visible(False)\n",
    "\n",
    "ax.xaxis.set_tick_params('x', direction = 'inout')\n",
    "ax.yaxis.set_visible(False)\n",
    "ax.grid(False)\n",
    "\n",
    "ax.spines['bottom'].set_color('black')\n",
    "sns.despine(fig, ax, left = True)\n",
    "fig.set_size_inches(6, 3)\n",
    "\n",
    "plt.xlabel('Time of Day')\n",
    "\n",
    "plt.savefig('./aggregated_signal.png', bbox_inches='tight', dpi = 300)\n",
    "plt.show()\n",
    "plt.clf()\n",
    "plt.cla()\n",
    "plt.close()\n"
   ]
  },
  {
   "cell_type": "code",
   "execution_count": 211,
   "metadata": {
    "collapsed": true
   },
   "outputs": [],
   "source": [
    "import random\n",
    "r = random.random()"
   ]
  },
  {
   "cell_type": "code",
   "execution_count": 251,
   "metadata": {
    "collapsed": true
   },
   "outputs": [],
   "source": [
    "d = all_houses_over_5['house_1'][example_day]\n",
    "x = d.index\n",
    "y_app = shuffle([d[column] for column in d.drop(['00 mains'], axis = 1)])"
   ]
  },
  {
   "cell_type": "code",
   "execution_count": 254,
   "metadata": {},
   "outputs": [
    {
     "data": {
      "image/png": "[encoded data removed]",
      "text/plain": [
       "<matplotlib.figure.Figure at 0x1a1783a90>"
      ]
     },
     "metadata": {},
     "output_type": "display_data"
    }
   ],
   "source": [
    "# Disaggregated plot\n",
    "\n",
    "fig, ax = plt.subplots()\n",
    "ax.stackplot(x, y_app, labels = [appliance.name[3:] for appliance in y_app])\n",
    "\n",
    "hours = mdates.HourLocator()\n",
    "hr_format = mdates.DateFormatter('%H:00')\n",
    "\n",
    "ax.set_xlim([datetime.date(2011, 4, 23), datetime.date(2011, 4, 24)])\n",
    "\n",
    "ax.xaxis.set_major_locator(hours)\n",
    "ax.xaxis.set_major_formatter(hr_format)\n",
    "\n",
    "for index, label in enumerate(ax.xaxis.get_ticklabels()):\n",
    "    if index % 6 != 0:\n",
    "        label.set_visible(False)\n",
    "\n",
    "ax.xaxis.set_tick_params('x', direction = 'inout')\n",
    "        \n",
    "ax.yaxis.set_visible(False)\n",
    "\n",
    "ax.grid(False)\n",
    "ax.spines['bottom'].set_color('black')\n",
    "\n",
    "sns.despine(fig, ax, left = True)\n",
    "sns.set_palette('hls')\n",
    "\n",
    "ax.legend(loc = 'center left')\n",
    "fig.set_size_inches(6, 3)\n",
    "\n",
    "plt.xlabel('Time of Day')\n",
    "\n",
    "plt.savefig('./disaggregated_signal.png', bbox_inches='tight', dpi = 300)\n",
    "plt.show()\n",
    "plt.clf()\n",
    "plt.cla()\n",
    "plt.close()"
   ]
  },
  {
   "cell_type": "code",
   "execution_count": 255,
   "metadata": {
    "collapsed": true
   },
   "outputs": [],
   "source": [
    "example_hour = (all_houses_over_5['house_1'].index > '2011-04-23 18:00:00') & \\\n",
    "                                (all_houses_over_5['house_1'].index < '2011-04-23 19:00:00')"
   ]
  },
  {
   "cell_type": "code",
   "execution_count": 271,
   "metadata": {},
   "outputs": [
    {
     "data": {
      "image/png": "[encoded data removed]",
      "text/plain": [
       "<matplotlib.figure.Figure at 0x1bc830a20>"
      ]
     },
     "metadata": {},
     "output_type": "display_data"
    }
   ],
   "source": [
    "d = all_houses_over_5['house_1'][example_day]\n",
    "x = d.index\n",
    "y = d['00 mains']\n",
    "\n",
    "fig, ax = plt.subplots()\n",
    "\n",
    "ax.plot(x, y, color = 'black')\n",
    "\n",
    "minutes = mdates.MinuteLocator()\n",
    "min_format = mdates.DateFormatter('%M')\n",
    "\n",
    "ax.set_xlim([datetime.datetime(2011, 4, 23, 18, 0, 0), datetime.datetime(2011, 4, 23, 18, 20 , 0)])\n",
    "ax.set_ylim([0,1500])\n",
    "\n",
    "#ax.xaxis.set_major_locator(minutes)\n",
    "#ax.xaxis.set_major_formatter(min_format)\n",
    "\n",
    "#for index, label in enumerate(ax.xaxis.get_ticklabels()):\n",
    "#    if index % 10 != 0:\n",
    "#        label.set_visible(False)\n",
    "\n",
    "ax.axes.get_xaxis().set_visible(False)\n",
    "\n",
    "ax.yaxis.set_visible(False)\n",
    "ax.xaxis.set_visible(False)\n",
    "\n",
    "ax.grid(False)\n",
    "\n",
    "ax.spines['bottom'].set_color('black')\n",
    "sns.despine(fig, ax, left = True)\n",
    "fig.set_size_inches(6, 3)\n",
    "\n",
    "plt.savefig('./aggregated_signal_hour.png', bbox_inches='tight', dpi = 300)\n",
    "plt.show()\n",
    "plt.clf()\n",
    "plt.cla()\n",
    "plt.close()"
   ]
  },
  {
   "cell_type": "code",
   "execution_count": null,
   "metadata": {
    "collapsed": true
   },
   "outputs": [],
   "source": []
  }
 ],
 "metadata": {
  "kernelspec": {
   "display_name": "Python 3",
   "language": "python",
   "name": "python3"
  },
  "language_info": {
   "codemirror_mode": {
    "name": "ipython",
    "version": 3
   },
   "file_extension": ".py",
   "mimetype": "text/x-python",
   "name": "python",
   "nbconvert_exporter": "python",
   "pygments_lexer": "ipython3",
   "version": "3.6.1"
  }
 },
 "nbformat": 4,
 "nbformat_minor": 2
}
