{
 "cells": [
  {
   "cell_type": "code",
   "execution_count": 110,
   "metadata": {},
   "outputs": [],
   "source": [
    "import glob\n",
    "import pandas as pd\n",
    "import numpy as np\n",
    "import sklearn as sk\n",
    "import datetime as dt\n",
    "import matplotlib.pyplot as plt"
   ]
  },
  {
   "cell_type": "code",
   "execution_count": 111,
   "metadata": {
    "collapsed": true
   },
   "outputs": [],
   "source": [
    "from sklearn.linear_model import LogisticRegression\n",
    "from sklearn.neighbors import KNeighborsClassifier\n",
    "from sklearn.naive_bayes import GaussianNB\n",
    "from sklearn.ensemble import RandomForestClassifier\n",
    "from sklearn.ensemble import AdaBoostClassifier\n",
    "\n",
    "from sklearn.utils import shuffle"
   ]
  },
  {
   "cell_type": "code",
   "execution_count": 38,
   "metadata": {},
   "outputs": [
    {
     "name": "stdout",
     "output_type": "stream",
     "text": [
      "['channel_1.dat', 'channel_2.dat', 'channel_3.dat', 'channel_4.dat', 'channel_5.dat', 'channel_6.dat', 'channel_7.dat', 'channel_8.dat', 'channel_9.dat', 'channel_10.dat', 'channel_11.dat', 'channel_12.dat', 'channel_13.dat', 'channel_14.dat', 'channel_15.dat', 'channel_16.dat', 'channel_17.dat', 'channel_18.dat', 'channel_19.dat', 'channel_20.dat']\n"
     ]
    }
   ],
   "source": [
    "# Read filenames, excluding label file. Sort so that single digits appear first.\n",
    "filenames = glob.glob('*.dat')\n",
    "filenames = filenames[:-1]\n",
    "\n",
    "for i in range(len(filenames)):\n",
    "    if len(filenames[i]) == 13:\n",
    "        filenames[i] = filenames[i][:8] + '0' + filenames[i][8:]\n",
    "\n",
    "filenames.sort()\n",
    "\n",
    "for i in range(9):\n",
    "    filenames[i] = filenames[i][:8] + filenames[i][9:]\n",
    "    \n",
    "print(filenames)"
   ]
  },
  {
   "cell_type": "code",
   "execution_count": 39,
   "metadata": {},
   "outputs": [
    {
     "name": "stdout",
     "output_type": "stream",
     "text": [
      "['01 mains', '02 mains', '03 oven', '04 oven', '05 refrigerator', '06 dishwasher', '07 kitchen_outlets', '08 kitchen_outlets', '09 lighting', '10 washer_dryer', '11 microwave', '12 bathroom_gfi', '13 electric_heat', '14 stove', '15 kitchen_outlets', '16 kitchen_outlets', '17 lighting', '18 lighting', '19 washer_dryer', '20 washer_dryer']\n"
     ]
    }
   ],
   "source": [
    "# Extract list of labels from file\n",
    "df_labels = pd.read_csv('labels.dat', names = ['Labels'])\n",
    "labels = df_labels['Labels'].tolist()\n",
    "\n",
    "for i in range(9):\n",
    "    labels[i] = '0' + labels[i]\n",
    "\n",
    "print(labels)"
   ]
  },
  {
   "cell_type": "code",
   "execution_count": 40,
   "metadata": {},
   "outputs": [
    {
     "name": "stdout",
     "output_type": "stream",
     "text": [
      "01 mains (1561660, 2)\n",
      "02 mains (1561660, 2)\n",
      "03 oven (745878, 2)\n",
      "04 oven (745878, 2)\n",
      "05 refrigerator (745878, 2)\n",
      "06 dishwasher (745878, 2)\n",
      "07 kitchen_outlets (745878, 2)\n",
      "08 kitchen_outlets (745878, 2)\n",
      "09 lighting (745878, 2)\n",
      "10 washer_dryer (745878, 2)\n",
      "11 microwave (745878, 2)\n",
      "12 bathroom_gfi (745878, 2)\n",
      "13 electric_heat (745878, 2)\n",
      "14 stove (745878, 2)\n",
      "15 kitchen_outlets (745878, 2)\n",
      "16 kitchen_outlets (745878, 2)\n",
      "17 lighting (745878, 2)\n",
      "18 lighting (745878, 2)\n",
      "19 washer_dryer (745878, 2)\n",
      "20 washer_dryer (745878, 2)\n"
     ]
    }
   ],
   "source": [
    "# Create list of all channels with date and power labelled\n",
    "column_names = ['Date','Power']\n",
    "df_all_list = [pd.read_csv(file,sep = ' ',names = column_names) for file in filenames]\n",
    "\n",
    "# Create dictionary of labels and their corresponding dataframes\n",
    "df_dict = dict(zip(labels,df_all_list))\n",
    "\n",
    "# View shape of each dataframe\n",
    "for key in df_dict:\n",
    "    print(key, df_dict[key].shape)"
   ]
  },
  {
   "cell_type": "code",
   "execution_count": 41,
   "metadata": {
    "collapsed": true
   },
   "outputs": [],
   "source": [
    "for key in df_dict:\n",
    "    \n",
    "    # Convert integer dates to datetime and set as index\n",
    "    df_dict[key]['Date'] = pd.to_datetime(df_dict[key]['Date'],unit = 's')\n",
    "    df_dict[key] = df_dict[key].set_index(['Date'])\n",
    "    \n",
    "    # Relabel Power column as the source label\n",
    "    df_dict[key].columns = [key]"
   ]
  },
  {
   "cell_type": "code",
   "execution_count": 164,
   "metadata": {
    "collapsed": true
   },
   "outputs": [],
   "source": [
    "# Create dataframe of mains signals\n",
    "df_mains = pd.concat([df_dict[label] for label in labels[:2]], axis = 1)\n",
    "\n",
    "# Create dataframe of other channel signals\n",
    "df_channels = pd.concat([df_dict[label] for label in labels[2:]], axis = 1)\n",
    "\n",
    "# Create dataframe with everything using inner join (only keep rows where index appears in all frames)\n",
    "df_total = pd.concat([df_mains, df_channels], axis = 1, join = 'inner')"
   ]
  },
  {
   "cell_type": "code",
   "execution_count": 165,
   "metadata": {},
   "outputs": [],
   "source": [
    "# Create total mains column and sort so that it appears first\n",
    "df_total['00 mains total'] = df_total['01 mains'] + df_total['02 mains']\n",
    "df_total = df_total.drop(['01 mains', '02 mains'], axis = 1)\n",
    "df_total = df_total.sort_index(axis=1)"
   ]
  },
  {
   "cell_type": "code",
   "execution_count": 166,
   "metadata": {},
   "outputs": [
    {
     "name": "stdout",
     "output_type": "stream",
     "text": [
      "00 mains total        1.000000e+00\n",
      "03 oven               1.618362e-02\n",
      "04 oven               2.018825e-02\n",
      "05 refrigerator       1.447317e-01\n",
      "06 dishwasher         6.497505e-02\n",
      "07 kitchen_outlets    5.537610e-02\n",
      "08 kitchen_outlets    7.387586e-02\n",
      "09 lighting           1.129090e-01\n",
      "10 washer_dryer       1.020206e-02\n",
      "11 microwave          5.804437e-02\n",
      "12 bathroom_gfi       1.824984e-02\n",
      "13 electric_heat      3.327021e-04\n",
      "14 stove              3.000005e-04\n",
      "15 kitchen_outlets    1.434670e-02\n",
      "16 kitchen_outlets    5.289653e-03\n",
      "17 lighting           4.704700e-02\n",
      "18 lighting           3.469935e-02\n",
      "19 washer_dryer       2.083515e-07\n",
      "20 washer_dryer       8.306274e-02\n",
      "dtype: float64\n"
     ]
    }
   ],
   "source": [
    "# Calculate fraction of total energy for each source, and only keep those contributing > 5%\n",
    "frac_total_energy = df_total.sum() / df_total['00 mains total'].sum()\n",
    "print(frac_total_energy)\n",
    "frac_total_energy = frac_total_energy > 0.03\n",
    "df_total = df_total[df_total.columns[frac_total_energy]]"
   ]
  },
  {
   "cell_type": "code",
   "execution_count": 151,
   "metadata": {},
   "outputs": [
    {
     "data": {
      "image/png": "[encoded data removed]",
      "text/plain": [
       "<matplotlib.figure.Figure at 0x1132a20b8>"
      ]
     },
     "metadata": {},
     "output_type": "display_data"
    }
   ],
   "source": [
    "df_total['05 refrigerator'][(df_total['05 refrigerator'] < 50)].hist(cumulative=True, normed=1, bins=100, histtype='step')\n",
    "plt.show()"
   ]
  },
  {
   "cell_type": "code",
   "execution_count": 170,
   "metadata": {},
   "outputs": [
    {
     "name": "stdout",
     "output_type": "stream",
     "text": [
      "00 mains total        155986400.8\n",
      "05 refrigerator          406712.0\n",
      "06 dishwasher             37033.0\n",
      "07 kitchen_outlets       406748.0\n",
      "08 kitchen_outlets       406748.0\n",
      "09 lighting              382361.0\n",
      "11 microwave             406748.0\n",
      "17 lighting              111425.0\n",
      "18 lighting              405221.0\n",
      "20 washer_dryer            5058.0\n",
      "dtype: float64\n",
      "(406748, 10)\n"
     ]
    }
   ],
   "source": [
    "df_io = df_total.copy()\n",
    "df_io.iloc[:,1:] = df_io.iloc[:,1:] > 0\n",
    "df_io.iloc[:,1:] = df_io.iloc[:,1:].astype(int)\n",
    "\n",
    "print(df_io.sum())\n",
    "print(df_io.shape)"
   ]
  },
  {
   "cell_type": "code",
   "execution_count": 172,
   "metadata": {},
   "outputs": [],
   "source": [
    "# Note kitchen outlets and microwave are \"always on\" and will not work in classification so we need to drop.\n",
    "df_io = df_io.drop(['07 kitchen_outlets', '08 kitchen_outlets', '11 microwave'], axis = 1)"
   ]
  },
  {
   "cell_type": "code",
   "execution_count": 173,
   "metadata": {},
   "outputs": [],
   "source": [
    "# Create time series column t\n",
    "df_io['t'] = df_io['00 mains total'].copy()\n",
    "\n",
    "# Create shifted time series columns t-1 to t-9\n",
    "for i in range(1,10):\n",
    "    df_io['t-' + str(i)] = df_io['00 mains total'].shift(i)\n",
    "\n",
    "# Drop original mains column    \n",
    "df_io = df_io.drop(['00 mains total'], axis = 1)\n",
    "\n",
    "# Drop NaNs\n",
    "df_io = df_io.dropna(how = 'any')"
   ]
  },
  {
   "cell_type": "code",
   "execution_count": 183,
   "metadata": {},
   "outputs": [],
   "source": [
    "# Create X and Y sets for multilabel classification\n",
    "Y_all = df_io.iloc[:,:6]\n",
    "X = df_io.iloc[:,6:]"
   ]
  },
  {
   "cell_type": "code",
   "execution_count": 184,
   "metadata": {
    "collapsed": true
   },
   "outputs": [],
   "source": [
    "from sklearn.model_selection import train_test_split\n",
    "X_train, X_test, Y_train_all, Y_test_all = train_test_split(X, Y_all, test_size=0.2, random_state=100)"
   ]
  },
  {
   "cell_type": "code",
   "execution_count": 191,
   "metadata": {},
   "outputs": [],
   "source": [
    "# Add logistic regression object\n",
    "logreg = LogisticRegression()\n",
    "\n",
    "# Create dataframe of metrics\n",
    "metrics = ['accuracy','precision','recall','f1 score', 'hamming loss']\n",
    "appliances = Y_all.columns.tolist()\n",
    "blank_data = np.zeros((len(metrics),len(appliances)))\n",
    "df_metrics = pd.DataFrame(data = blank_data, columns = appliances, index = metrics)\n",
    "\n",
    "# Create dictionary of metrics and sklearn metric objects\n",
    "metric_objects = [sk.metrics.accuracy_score,\n",
    "                  sk.metrics.precision_score,\n",
    "                  sk.metrics.recall_score,\n",
    "                  sk.metrics.f1_score,\n",
    "                  sk.metrics.hamming_loss]\n",
    "\n",
    "metric_dict = dict(zip(metrics, metric_objects))"
   ]
  },
  {
   "cell_type": "code",
   "execution_count": 186,
   "metadata": {},
   "outputs": [
    {
     "data": {
      "text/plain": [
       "Index(['05 refrigerator', '06 dishwasher', '09 lighting', '17 lighting',\n",
       "       '18 lighting', '20 washer_dryer'],\n",
       "      dtype='object')"
      ]
     },
     "execution_count": 186,
     "metadata": {},
     "output_type": "execute_result"
    }
   ],
   "source": [
    "Y_train_all.columns"
   ]
  },
  {
   "cell_type": "code",
   "execution_count": 187,
   "metadata": {},
   "outputs": [],
   "source": [
    "Y_train_all = Y_train_all.reset_index(drop = True)"
   ]
  },
  {
   "cell_type": "code",
   "execution_count": 188,
   "metadata": {},
   "outputs": [],
   "source": [
    "for col in Y_train_all.columns:\n",
    "    \n",
    "    # Relabel so only one appliance is trained on\n",
    "    Y_train = Y_train_all[col]\n",
    "    Y_test = Y_test_all[col]\n",
    "    \n",
    "    # Fit data\n",
    "    logreg.fit(X_train, Y_train)\n",
    "    \n",
    "    # Predict Y values\n",
    "    Y_pred = logreg.predict(X_test)\n",
    "    \n",
    "    for metric in metrics:\n",
    "        df_metrics.loc[metric, col] = metric_dict[metric](Y_test, Y_pred)"
   ]
  },
  {
   "cell_type": "code",
   "execution_count": 189,
   "metadata": {},
   "outputs": [
    {
     "data": {
      "text/html": [
       "<div>\n",
       "<style>\n",
       "    .dataframe thead tr:only-child th {\n",
       "        text-align: right;\n",
       "    }\n",
       "\n",
       "    .dataframe thead th {\n",
       "        text-align: left;\n",
       "    }\n",
       "\n",
       "    .dataframe tbody tr th {\n",
       "        vertical-align: top;\n",
       "    }\n",
       "</style>\n",
       "<table border=\"1\" class=\"dataframe\">\n",
       "  <thead>\n",
       "    <tr style=\"text-align: right;\">\n",
       "      <th></th>\n",
       "      <th>05 refrigerator</th>\n",
       "      <th>06 dishwasher</th>\n",
       "      <th>09 lighting</th>\n",
       "      <th>17 lighting</th>\n",
       "      <th>18 lighting</th>\n",
       "      <th>20 washer_dryer</th>\n",
       "    </tr>\n",
       "  </thead>\n",
       "  <tbody>\n",
       "    <tr>\n",
       "      <th>accuracy</th>\n",
       "      <td>0.999877</td>\n",
       "      <td>0.909156</td>\n",
       "      <td>0.941511</td>\n",
       "      <td>0.738260</td>\n",
       "      <td>0.996103</td>\n",
       "      <td>0.986834</td>\n",
       "    </tr>\n",
       "    <tr>\n",
       "      <th>precision</th>\n",
       "      <td>0.999889</td>\n",
       "      <td>0.432749</td>\n",
       "      <td>0.941533</td>\n",
       "      <td>0.731751</td>\n",
       "      <td>0.996581</td>\n",
       "      <td>0.407534</td>\n",
       "    </tr>\n",
       "    <tr>\n",
       "      <th>recall</th>\n",
       "      <td>0.999988</td>\n",
       "      <td>0.010045</td>\n",
       "      <td>0.999974</td>\n",
       "      <td>0.073185</td>\n",
       "      <td>0.999519</td>\n",
       "      <td>0.117011</td>\n",
       "    </tr>\n",
       "    <tr>\n",
       "      <th>f1 score</th>\n",
       "      <td>0.999939</td>\n",
       "      <td>0.019634</td>\n",
       "      <td>0.969874</td>\n",
       "      <td>0.133062</td>\n",
       "      <td>0.998048</td>\n",
       "      <td>0.181818</td>\n",
       "    </tr>\n",
       "    <tr>\n",
       "      <th>hamming loss</th>\n",
       "      <td>0.000123</td>\n",
       "      <td>0.090844</td>\n",
       "      <td>0.058489</td>\n",
       "      <td>0.261740</td>\n",
       "      <td>0.003897</td>\n",
       "      <td>0.013166</td>\n",
       "    </tr>\n",
       "  </tbody>\n",
       "</table>\n",
       "</div>"
      ],
      "text/plain": [
       "              05 refrigerator  06 dishwasher  09 lighting  17 lighting  \\\n",
       "accuracy             0.999877       0.909156     0.941511     0.738260   \n",
       "precision            0.999889       0.432749     0.941533     0.731751   \n",
       "recall               0.999988       0.010045     0.999974     0.073185   \n",
       "f1 score             0.999939       0.019634     0.969874     0.133062   \n",
       "hamming loss         0.000123       0.090844     0.058489     0.261740   \n",
       "\n",
       "              18 lighting  20 washer_dryer  \n",
       "accuracy         0.996103         0.986834  \n",
       "precision        0.996581         0.407534  \n",
       "recall           0.999519         0.117011  \n",
       "f1 score         0.998048         0.181818  \n",
       "hamming loss     0.003897         0.013166  "
      ]
     },
     "execution_count": 189,
     "metadata": {},
     "output_type": "execute_result"
    }
   ],
   "source": [
    "df_metrics"
   ]
  },
  {
   "cell_type": "code",
   "execution_count": 190,
   "metadata": {
    "collapsed": true
   },
   "outputs": [],
   "source": [
    "knn = KNeighborsClassifier(n_neighbors = 3)"
   ]
  },
  {
   "cell_type": "code",
   "execution_count": 192,
   "metadata": {
    "collapsed": true
   },
   "outputs": [],
   "source": [
    "df_metrics_knn = pd.DataFrame(data = blank_data, columns = appliances, index = metrics)"
   ]
  },
  {
   "cell_type": "code",
   "execution_count": 195,
   "metadata": {},
   "outputs": [],
   "source": [
    "for col in Y_train_all.columns:\n",
    "    \n",
    "    # Relabel so only one appliance is trained on\n",
    "    Y_train = Y_train_all[col]\n",
    "    Y_test = Y_test_all[col]\n",
    "    \n",
    "    # Fit data\n",
    "    knn.fit(X_train, Y_train)\n",
    "    \n",
    "    # Predict Y values\n",
    "    Y_pred = knn.predict(X_test)\n",
    "    \n",
    "    for metric in metrics:\n",
    "        df_metrics_knn.loc[metric, col] = metric_dict[metric](Y_test, Y_pred)"
   ]
  },
  {
   "cell_type": "code",
   "execution_count": 196,
   "metadata": {},
   "outputs": [
    {
     "data": {
      "text/html": [
       "<div>\n",
       "<style>\n",
       "    .dataframe thead tr:only-child th {\n",
       "        text-align: right;\n",
       "    }\n",
       "\n",
       "    .dataframe thead th {\n",
       "        text-align: left;\n",
       "    }\n",
       "\n",
       "    .dataframe tbody tr th {\n",
       "        vertical-align: top;\n",
       "    }\n",
       "</style>\n",
       "<table border=\"1\" class=\"dataframe\">\n",
       "  <thead>\n",
       "    <tr style=\"text-align: right;\">\n",
       "      <th></th>\n",
       "      <th>05 refrigerator</th>\n",
       "      <th>06 dishwasher</th>\n",
       "      <th>09 lighting</th>\n",
       "      <th>17 lighting</th>\n",
       "      <th>18 lighting</th>\n",
       "      <th>20 washer_dryer</th>\n",
       "    </tr>\n",
       "  </thead>\n",
       "  <tbody>\n",
       "    <tr>\n",
       "      <th>accuracy</th>\n",
       "      <td>0.999877</td>\n",
       "      <td>0.935401</td>\n",
       "      <td>0.956791</td>\n",
       "      <td>0.910041</td>\n",
       "      <td>0.996841</td>\n",
       "      <td>0.998795</td>\n",
       "    </tr>\n",
       "    <tr>\n",
       "      <th>precision</th>\n",
       "      <td>0.999889</td>\n",
       "      <td>0.670433</td>\n",
       "      <td>0.967393</td>\n",
       "      <td>0.868030</td>\n",
       "      <td>0.998347</td>\n",
       "      <td>0.964611</td>\n",
       "    </tr>\n",
       "    <tr>\n",
       "      <th>recall</th>\n",
       "      <td>0.999988</td>\n",
       "      <td>0.563866</td>\n",
       "      <td>0.987388</td>\n",
       "      <td>0.792762</td>\n",
       "      <td>0.998483</td>\n",
       "      <td>0.938053</td>\n",
       "    </tr>\n",
       "    <tr>\n",
       "      <th>f1 score</th>\n",
       "      <td>0.999939</td>\n",
       "      <td>0.612549</td>\n",
       "      <td>0.977288</td>\n",
       "      <td>0.828690</td>\n",
       "      <td>0.998415</td>\n",
       "      <td>0.951147</td>\n",
       "    </tr>\n",
       "    <tr>\n",
       "      <th>hamming loss</th>\n",
       "      <td>0.000123</td>\n",
       "      <td>0.064599</td>\n",
       "      <td>0.043209</td>\n",
       "      <td>0.089959</td>\n",
       "      <td>0.003159</td>\n",
       "      <td>0.001205</td>\n",
       "    </tr>\n",
       "  </tbody>\n",
       "</table>\n",
       "</div>"
      ],
      "text/plain": [
       "              05 refrigerator  06 dishwasher  09 lighting  17 lighting  \\\n",
       "accuracy             0.999877       0.935401     0.956791     0.910041   \n",
       "precision            0.999889       0.670433     0.967393     0.868030   \n",
       "recall               0.999988       0.563866     0.987388     0.792762   \n",
       "f1 score             0.999939       0.612549     0.977288     0.828690   \n",
       "hamming loss         0.000123       0.064599     0.043209     0.089959   \n",
       "\n",
       "              18 lighting  20 washer_dryer  \n",
       "accuracy         0.996841         0.998795  \n",
       "precision        0.998347         0.964611  \n",
       "recall           0.998483         0.938053  \n",
       "f1 score         0.998415         0.951147  \n",
       "hamming loss     0.003159         0.001205  "
      ]
     },
     "execution_count": 196,
     "metadata": {},
     "output_type": "execute_result"
    }
   ],
   "source": [
    "df_metrics_knn"
   ]
  },
  {
   "cell_type": "code",
   "execution_count": 197,
   "metadata": {
    "collapsed": true
   },
   "outputs": [],
   "source": [
    "nb = GaussianNB()"
   ]
  },
  {
   "cell_type": "code",
   "execution_count": 198,
   "metadata": {
    "collapsed": true
   },
   "outputs": [],
   "source": [
    "df_metrics_nb = pd.DataFrame(data = blank_data, columns = appliances, index = metrics)"
   ]
  },
  {
   "cell_type": "code",
   "execution_count": 199,
   "metadata": {
    "collapsed": true
   },
   "outputs": [],
   "source": [
    "for col in Y_train_all.columns:\n",
    "    \n",
    "    # Relabel so only one appliance is trained on\n",
    "    Y_train = Y_train_all[col]\n",
    "    Y_test = Y_test_all[col]\n",
    "    \n",
    "    # Fit data\n",
    "    nb.fit(X_train, Y_train)\n",
    "    \n",
    "    # Predict Y values\n",
    "    Y_pred = nb.predict(X_test)\n",
    "    \n",
    "    for metric in metrics:\n",
    "        df_metrics_nb.loc[metric, col] = metric_dict[metric](Y_test, Y_pred)"
   ]
  },
  {
   "cell_type": "code",
   "execution_count": 200,
   "metadata": {},
   "outputs": [
    {
     "data": {
      "text/html": [
       "<div>\n",
       "<style>\n",
       "    .dataframe thead tr:only-child th {\n",
       "        text-align: right;\n",
       "    }\n",
       "\n",
       "    .dataframe thead th {\n",
       "        text-align: left;\n",
       "    }\n",
       "\n",
       "    .dataframe tbody tr th {\n",
       "        vertical-align: top;\n",
       "    }\n",
       "</style>\n",
       "<table border=\"1\" class=\"dataframe\">\n",
       "  <thead>\n",
       "    <tr style=\"text-align: right;\">\n",
       "      <th></th>\n",
       "      <th>05 refrigerator</th>\n",
       "      <th>06 dishwasher</th>\n",
       "      <th>09 lighting</th>\n",
       "      <th>17 lighting</th>\n",
       "      <th>18 lighting</th>\n",
       "      <th>20 washer_dryer</th>\n",
       "    </tr>\n",
       "  </thead>\n",
       "  <tbody>\n",
       "    <tr>\n",
       "      <th>accuracy</th>\n",
       "      <td>0.982495</td>\n",
       "      <td>0.904398</td>\n",
       "      <td>0.910225</td>\n",
       "      <td>0.747689</td>\n",
       "      <td>0.984056</td>\n",
       "      <td>0.980626</td>\n",
       "    </tr>\n",
       "    <tr>\n",
       "      <th>precision</th>\n",
       "      <td>1.000000</td>\n",
       "      <td>0.453154</td>\n",
       "      <td>0.942531</td>\n",
       "      <td>0.684480</td>\n",
       "      <td>0.999937</td>\n",
       "      <td>0.390778</td>\n",
       "    </tr>\n",
       "    <tr>\n",
       "      <th>recall</th>\n",
       "      <td>0.982493</td>\n",
       "      <td>0.269173</td>\n",
       "      <td>0.963390</td>\n",
       "      <td>0.149729</td>\n",
       "      <td>0.984061</td>\n",
       "      <td>0.983284</td>\n",
       "    </tr>\n",
       "    <tr>\n",
       "      <th>f1 score</th>\n",
       "      <td>0.991169</td>\n",
       "      <td>0.337733</td>\n",
       "      <td>0.952846</td>\n",
       "      <td>0.245709</td>\n",
       "      <td>0.991936</td>\n",
       "      <td>0.559284</td>\n",
       "    </tr>\n",
       "    <tr>\n",
       "      <th>hamming loss</th>\n",
       "      <td>0.017505</td>\n",
       "      <td>0.095602</td>\n",
       "      <td>0.089775</td>\n",
       "      <td>0.252311</td>\n",
       "      <td>0.015944</td>\n",
       "      <td>0.019374</td>\n",
       "    </tr>\n",
       "  </tbody>\n",
       "</table>\n",
       "</div>"
      ],
      "text/plain": [
       "              05 refrigerator  06 dishwasher  09 lighting  17 lighting  \\\n",
       "accuracy             0.982495       0.904398     0.910225     0.747689   \n",
       "precision            1.000000       0.453154     0.942531     0.684480   \n",
       "recall               0.982493       0.269173     0.963390     0.149729   \n",
       "f1 score             0.991169       0.337733     0.952846     0.245709   \n",
       "hamming loss         0.017505       0.095602     0.089775     0.252311   \n",
       "\n",
       "              18 lighting  20 washer_dryer  \n",
       "accuracy         0.984056         0.980626  \n",
       "precision        0.999937         0.390778  \n",
       "recall           0.984061         0.983284  \n",
       "f1 score         0.991936         0.559284  \n",
       "hamming loss     0.015944         0.019374  "
      ]
     },
     "execution_count": 200,
     "metadata": {},
     "output_type": "execute_result"
    }
   ],
   "source": [
    "df_metrics_nb"
   ]
  },
  {
   "cell_type": "code",
   "execution_count": 201,
   "metadata": {
    "collapsed": true
   },
   "outputs": [],
   "source": [
    "rfc = RandomForestClassifier()"
   ]
  },
  {
   "cell_type": "code",
   "execution_count": 202,
   "metadata": {
    "collapsed": true
   },
   "outputs": [],
   "source": [
    "df_metrics_rfc = pd.DataFrame(data = blank_data, columns = appliances, index = metrics)"
   ]
  },
  {
   "cell_type": "code",
   "execution_count": 203,
   "metadata": {
    "collapsed": true
   },
   "outputs": [],
   "source": [
    "for col in Y_train_all.columns:\n",
    "    \n",
    "    # Relabel so only one appliance is trained on\n",
    "    Y_train = Y_train_all[col]\n",
    "    Y_test = Y_test_all[col]\n",
    "    \n",
    "    # Fit data\n",
    "    rfc.fit(X_train, Y_train)\n",
    "    \n",
    "    # Predict Y values\n",
    "    Y_pred = rfc.predict(X_test)\n",
    "    \n",
    "    for metric in metrics:\n",
    "        df_metrics_rfc.loc[metric, col] = metric_dict[metric](Y_test, Y_pred)"
   ]
  },
  {
   "cell_type": "code",
   "execution_count": 204,
   "metadata": {},
   "outputs": [
    {
     "data": {
      "text/html": [
       "<div>\n",
       "<style>\n",
       "    .dataframe thead tr:only-child th {\n",
       "        text-align: right;\n",
       "    }\n",
       "\n",
       "    .dataframe thead th {\n",
       "        text-align: left;\n",
       "    }\n",
       "\n",
       "    .dataframe tbody tr th {\n",
       "        vertical-align: top;\n",
       "    }\n",
       "</style>\n",
       "<table border=\"1\" class=\"dataframe\">\n",
       "  <thead>\n",
       "    <tr style=\"text-align: right;\">\n",
       "      <th></th>\n",
       "      <th>05 refrigerator</th>\n",
       "      <th>06 dishwasher</th>\n",
       "      <th>09 lighting</th>\n",
       "      <th>17 lighting</th>\n",
       "      <th>18 lighting</th>\n",
       "      <th>20 washer_dryer</th>\n",
       "    </tr>\n",
       "  </thead>\n",
       "  <tbody>\n",
       "    <tr>\n",
       "      <th>accuracy</th>\n",
       "      <td>0.999889</td>\n",
       "      <td>0.945862</td>\n",
       "      <td>0.963945</td>\n",
       "      <td>0.922641</td>\n",
       "      <td>0.997406</td>\n",
       "      <td>0.999127</td>\n",
       "    </tr>\n",
       "    <tr>\n",
       "      <th>precision</th>\n",
       "      <td>0.999889</td>\n",
       "      <td>0.816898</td>\n",
       "      <td>0.969279</td>\n",
       "      <td>0.882089</td>\n",
       "      <td>0.998483</td>\n",
       "      <td>0.979716</td>\n",
       "    </tr>\n",
       "    <tr>\n",
       "      <th>recall</th>\n",
       "      <td>1.000000</td>\n",
       "      <td>0.518393</td>\n",
       "      <td>0.993185</td>\n",
       "      <td>0.828951</td>\n",
       "      <td>0.998914</td>\n",
       "      <td>0.949853</td>\n",
       "    </tr>\n",
       "    <tr>\n",
       "      <th>f1 score</th>\n",
       "      <td>0.999945</td>\n",
       "      <td>0.634280</td>\n",
       "      <td>0.981086</td>\n",
       "      <td>0.854695</td>\n",
       "      <td>0.998699</td>\n",
       "      <td>0.964553</td>\n",
       "    </tr>\n",
       "    <tr>\n",
       "      <th>hamming loss</th>\n",
       "      <td>0.000111</td>\n",
       "      <td>0.054138</td>\n",
       "      <td>0.036055</td>\n",
       "      <td>0.077359</td>\n",
       "      <td>0.002594</td>\n",
       "      <td>0.000873</td>\n",
       "    </tr>\n",
       "  </tbody>\n",
       "</table>\n",
       "</div>"
      ],
      "text/plain": [
       "              05 refrigerator  06 dishwasher  09 lighting  17 lighting  \\\n",
       "accuracy             0.999889       0.945862     0.963945     0.922641   \n",
       "precision            0.999889       0.816898     0.969279     0.882089   \n",
       "recall               1.000000       0.518393     0.993185     0.828951   \n",
       "f1 score             0.999945       0.634280     0.981086     0.854695   \n",
       "hamming loss         0.000111       0.054138     0.036055     0.077359   \n",
       "\n",
       "              18 lighting  20 washer_dryer  \n",
       "accuracy         0.997406         0.999127  \n",
       "precision        0.998483         0.979716  \n",
       "recall           0.998914         0.949853  \n",
       "f1 score         0.998699         0.964553  \n",
       "hamming loss     0.002594         0.000873  "
      ]
     },
     "execution_count": 204,
     "metadata": {},
     "output_type": "execute_result"
    }
   ],
   "source": [
    "df_metrics_rfc"
   ]
  },
  {
   "cell_type": "code",
   "execution_count": 205,
   "metadata": {
    "collapsed": true
   },
   "outputs": [],
   "source": [
    "abc = AdaBoostClassifier()"
   ]
  },
  {
   "cell_type": "code",
   "execution_count": 206,
   "metadata": {
    "collapsed": true
   },
   "outputs": [],
   "source": [
    "df_metrics_abc = pd.DataFrame(data = blank_data, columns = appliances, index = metrics)"
   ]
  },
  {
   "cell_type": "code",
   "execution_count": 207,
   "metadata": {
    "collapsed": true
   },
   "outputs": [],
   "source": [
    "for col in Y_train_all.columns:\n",
    "    \n",
    "    # Relabel so only one appliance is trained on\n",
    "    Y_train = Y_train_all[col]\n",
    "    Y_test = Y_test_all[col]\n",
    "    \n",
    "    # Fit data\n",
    "    abc.fit(X_train, Y_train)\n",
    "    \n",
    "    # Predict Y values\n",
    "    Y_pred = abc.predict(X_test)\n",
    "    \n",
    "    for metric in metrics:\n",
    "        df_metrics_abc.loc[metric, col] = metric_dict[metric](Y_test, Y_pred)"
   ]
  },
  {
   "cell_type": "code",
   "execution_count": 208,
   "metadata": {},
   "outputs": [
    {
     "data": {
      "text/html": [
       "<div>\n",
       "<style>\n",
       "    .dataframe thead tr:only-child th {\n",
       "        text-align: right;\n",
       "    }\n",
       "\n",
       "    .dataframe thead th {\n",
       "        text-align: left;\n",
       "    }\n",
       "\n",
       "    .dataframe tbody tr th {\n",
       "        vertical-align: top;\n",
       "    }\n",
       "</style>\n",
       "<table border=\"1\" class=\"dataframe\">\n",
       "  <thead>\n",
       "    <tr style=\"text-align: right;\">\n",
       "      <th></th>\n",
       "      <th>05 refrigerator</th>\n",
       "      <th>06 dishwasher</th>\n",
       "      <th>09 lighting</th>\n",
       "      <th>17 lighting</th>\n",
       "      <th>18 lighting</th>\n",
       "      <th>20 washer_dryer</th>\n",
       "    </tr>\n",
       "  </thead>\n",
       "  <tbody>\n",
       "    <tr>\n",
       "      <th>accuracy</th>\n",
       "      <td>0.999914</td>\n",
       "      <td>0.925112</td>\n",
       "      <td>0.958389</td>\n",
       "      <td>0.882579</td>\n",
       "      <td>0.997074</td>\n",
       "      <td>0.998758</td>\n",
       "    </tr>\n",
       "    <tr>\n",
       "      <th>precision</th>\n",
       "      <td>0.999926</td>\n",
       "      <td>0.800566</td>\n",
       "      <td>0.959433</td>\n",
       "      <td>0.770599</td>\n",
       "      <td>0.997403</td>\n",
       "      <td>0.973140</td>\n",
       "    </tr>\n",
       "    <tr>\n",
       "      <th>recall</th>\n",
       "      <td>0.999988</td>\n",
       "      <td>0.230487</td>\n",
       "      <td>0.998002</td>\n",
       "      <td>0.814709</td>\n",
       "      <td>0.999667</td>\n",
       "      <td>0.926254</td>\n",
       "    </tr>\n",
       "    <tr>\n",
       "      <th>f1 score</th>\n",
       "      <td>0.999957</td>\n",
       "      <td>0.357926</td>\n",
       "      <td>0.978338</td>\n",
       "      <td>0.792040</td>\n",
       "      <td>0.998534</td>\n",
       "      <td>0.949118</td>\n",
       "    </tr>\n",
       "    <tr>\n",
       "      <th>hamming loss</th>\n",
       "      <td>0.000086</td>\n",
       "      <td>0.074888</td>\n",
       "      <td>0.041611</td>\n",
       "      <td>0.117421</td>\n",
       "      <td>0.002926</td>\n",
       "      <td>0.001242</td>\n",
       "    </tr>\n",
       "  </tbody>\n",
       "</table>\n",
       "</div>"
      ],
      "text/plain": [
       "              05 refrigerator  06 dishwasher  09 lighting  17 lighting  \\\n",
       "accuracy             0.999914       0.925112     0.958389     0.882579   \n",
       "precision            0.999926       0.800566     0.959433     0.770599   \n",
       "recall               0.999988       0.230487     0.998002     0.814709   \n",
       "f1 score             0.999957       0.357926     0.978338     0.792040   \n",
       "hamming loss         0.000086       0.074888     0.041611     0.117421   \n",
       "\n",
       "              18 lighting  20 washer_dryer  \n",
       "accuracy         0.997074         0.998758  \n",
       "precision        0.997403         0.973140  \n",
       "recall           0.999667         0.926254  \n",
       "f1 score         0.998534         0.949118  \n",
       "hamming loss     0.002926         0.001242  "
      ]
     },
     "execution_count": 208,
     "metadata": {},
     "output_type": "execute_result"
    }
   ],
   "source": [
    "df_metrics_abc"
   ]
  },
  {
   "cell_type": "code",
   "execution_count": null,
   "metadata": {
    "collapsed": true
   },
   "outputs": [],
   "source": []
  }
 ],
 "metadata": {
  "kernelspec": {
   "display_name": "Python 3",
   "language": "python",
   "name": "python3"
  },
  "language_info": {
   "codemirror_mode": {
    "name": "ipython",
    "version": 3
   },
   "file_extension": ".py",
   "mimetype": "text/x-python",
   "name": "python",
   "nbconvert_exporter": "python",
   "pygments_lexer": "ipython3",
   "version": "3.6.1"
  }
 },
 "nbformat": 4,
 "nbformat_minor": 2
}
